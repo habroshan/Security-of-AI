{
 "cells": [
  {
   "cell_type": "markdown",
   "id": "b989ab41-10dd-48a2-a68c-ac5283ee1e51",
   "metadata": {},
   "source": [
    "# Evasion Attack: Carlini & Wagner (C&W)\n",
    "\n",
    "This notebook demonstrates how to perform the Carlini & Wagner (C&W) evasion attack against our deployed MNIST digit classifier. C&W is one of the four evasion attack algorithms mentioned in the Security and Privacy of AI Knowledge Guide.\n",
    "\n",
    "## Overview of C&W Attack\n",
    "\n",
    "The Carlini & Wagner (C&W) attack, introduced in 2017, is a powerful optimization-based attack that creates adversarial examples by explicitly minimizing both the perturbation size and a carefully designed loss function. Unlike FGSM and PGD which use the sign of the gradient, C&W formulates the problem as an optimization task and uses advanced optimization techniques.\n",
    "\n",
    "The C&W attack can be formulated as:\n",
    "\n",
    "$$\\text{minimize} \\quad ||x' - x||_p + c \\cdot f(x', t)$$\n",
    "\n",
    "where:\n",
    "- $x$ is the original input\n",
    "- $x'$ is the adversarial example\n",
    "- $||x' - x||_p$ is the perturbation distance (using $L_p$ norm)\n",
    "- $f(x', t)$ is an objective function that encourages misclassification\n",
    "- $c$ is a constant that balances the two terms\n",
    "\n",
    "Instead of directly optimizing the adversarial example $x'$, C&W introduces a change of variable using a hyperbolic tangent function to ensure the adversarial example stays within valid bounds. This makes the optimization problem more tractable.\n",
    "\n",
    "## Steps in this notebook:\n",
    "1. Import required libraries\n",
    "2. Set up connection to the deployed model\n",
    "3. Load test data\n",
    "4. Implement the C&W attack\n",
    "5. Generate adversarial examples\n",
    "6. Evaluate attack success rate\n",
    "7. Visualize results\n",
    "8. Compare with other attacks (FGSM and PGD)"
   ]
  },
  {
   "cell_type": "markdown",
   "id": "02b177f7-4f8e-454e-9703-6e63d49f2806",
   "metadata": {},
   "source": [
    "## 1. Import Required Libraries"
   ]
  },
  {
   "cell_type": "code",
   "execution_count": 2,
   "id": "604d77d6-dbb3-45ce-ac0e-037a7684403d",
   "metadata": {},
   "outputs": [
    {
     "name": "stderr",
     "output_type": "stream",
     "text": [
      "2025-02-22 00:22:08.306033: I tensorflow/core/util/port.cc:153] oneDNN custom operations are on. You may see slightly different numerical results due to floating-point round-off errors from different computation orders. To turn them off, set the environment variable `TF_ENABLE_ONEDNN_OPTS=0`.\n",
      "2025-02-22 00:22:08.703112: E external/local_xla/xla/stream_executor/cuda/cuda_fft.cc:477] Unable to register cuFFT factory: Attempting to register factory for plugin cuFFT when one has already been registered\n",
      "WARNING: All log messages before absl::InitializeLog() is called are written to STDERR\n",
      "E0000 00:00:1740183728.821611   17854 cuda_dnn.cc:8310] Unable to register cuDNN factory: Attempting to register factory for plugin cuDNN when one has already been registered\n",
      "E0000 00:00:1740183728.863507   17854 cuda_blas.cc:1418] Unable to register cuBLAS factory: Attempting to register factory for plugin cuBLAS when one has already been registered\n",
      "2025-02-22 00:22:09.226937: I tensorflow/core/platform/cpu_feature_guard.cc:210] This TensorFlow binary is optimized to use available CPU instructions in performance-critical operations.\n",
      "To enable the following instructions: AVX2 AVX_VNNI FMA, in other operations, rebuild TensorFlow with the appropriate compiler flags.\n"
     ]
    }
   ],
   "source": [
    "import numpy as np\n",
    "import matplotlib.pyplot as plt\n",
    "import tensorflow as tf\n",
    "from tensorflow.keras.datasets import mnist\n",
    "import requests\n",
    "import json\n",
    "import time\n",
    "from tqdm.notebook import tqdm\n",
    "from PIL import Image\n",
    "import io\n",
    "import base64\n",
    "from scipy.optimize import minimize\n",
    "\n",
    "# Set random seed for reproducibility\n",
    "np.random.seed(42)\n",
    "tf.random.set_seed(42)"
   ]
  },
  {
   "cell_type": "markdown",
   "id": "035a3e75-1362-4f84-9305-d3f616cd2875",
   "metadata": {},
   "source": [
    "## 2. Set up connection to the deployed model\n",
    "\n",
    "We'll create functions to interact with the deployed model API."
   ]
  },
  {
   "cell_type": "code",
   "execution_count": 3,
   "id": "473e6807-1d6b-4240-a17b-1a5183f283a2",
   "metadata": {},
   "outputs": [
    {
     "name": "stdout",
     "output_type": "stream",
     "text": [
      "Successfully connected to the model API!\n",
      "Model: MNIST Digit Classifier\n",
      "Input shape: [28, 28, 1]\n",
      "Classes: ['0', '1', '2', '3', '4', '5', '6', '7', '8', '9']\n",
      "Test accuracy: 0.9905999898910522\n"
     ]
    }
   ],
   "source": [
    "# API endpoint of the deployed model\n",
    "API_URL = \"http://localhost:5000\"\n",
    "\n",
    "def get_model_info():\n",
    "    \"\"\"Get information about the deployed model\"\"\"\n",
    "    response = requests.get(f\"{API_URL}/info\")\n",
    "    if response.status_code == 200:\n",
    "        return response.json()\n",
    "    else:\n",
    "        raise Exception(f\"Error fetching model info: {response.text}\")\n",
    "\n",
    "def get_prediction(pixels):\n",
    "    \"\"\"Get prediction for an image from the deployed model\"\"\"\n",
    "    # Ensure pixels are flattened\n",
    "    pixels_flat = pixels.reshape(-1).tolist()\n",
    "    \n",
    "    # Prepare the request data\n",
    "    data = {\n",
    "        'pixels': pixels_flat\n",
    "    }\n",
    "    \n",
    "    # Send the request\n",
    "    response = requests.post(f\"{API_URL}/predict_raw\", json=data)\n",
    "    \n",
    "    if response.status_code == 200:\n",
    "        return response.json()\n",
    "    else:\n",
    "        raise Exception(f\"Error getting prediction: {response.text}\")\n",
    "\n",
    "def get_gradient(pixels, label):\n",
    "    \"\"\"Get the gradient of the loss with respect to the input from the deployed model\"\"\"\n",
    "    # Ensure pixels are flattened\n",
    "    pixels_flat = pixels.reshape(-1).tolist()\n",
    "    \n",
    "    # Prepare the request data\n",
    "    data = {\n",
    "        'pixels': pixels_flat,\n",
    "        'label': int(label)\n",
    "    }\n",
    "    \n",
    "    # Send the request\n",
    "    response = requests.post(f\"{API_URL}/get_gradient\", json=data)\n",
    "    \n",
    "    if response.status_code == 200:\n",
    "        result = response.json()\n",
    "        gradient = np.array(result['gradient'])\n",
    "        gradient_shape = result['gradient_shape']\n",
    "        return gradient.reshape(gradient_shape)\n",
    "    else:\n",
    "        raise Exception(f\"Error getting gradient: {response.text}\")\n",
    "        \n",
    "# Test the API connection\n",
    "try:\n",
    "    model_info = get_model_info()\n",
    "    print(\"Successfully connected to the model API!\")\n",
    "    print(f\"Model: {model_info['model_name']}\")\n",
    "    print(f\"Input shape: {model_info['input_shape']}\")\n",
    "    print(f\"Classes: {model_info['classes']}\")\n",
    "    print(f\"Test accuracy: {model_info['test_accuracy']}\")\n",
    "except Exception as e:\n",
    "    print(f\"Failed to connect to the model API: {e}\")\n",
    "    print(\"Make sure the Flask server is running at http://localhost:5000\")"
   ]
  },
  {
   "cell_type": "markdown",
   "id": "d70a1183-c4fb-477b-bf3d-1c2f0da2166d",
   "metadata": {},
   "source": [
    "## 3. Load Test Data\n",
    "\n",
    "We'll load the MNIST test dataset to use for our attack."
   ]
  },
  {
   "cell_type": "code",
   "execution_count": 4,
   "id": "32932b54-60c3-42f6-9149-be1e686801aa",
   "metadata": {},
   "outputs": [
    {
     "name": "stdout",
     "output_type": "stream",
     "text": [
      "Loading MNIST dataset...\n",
      "Loaded 10000 test images\n",
      "Data shape: (10000, 28, 28, 1)\n",
      "Labels shape: (10000,)\n"
     ]
    }
   ],
   "source": [
    "# Load MNIST dataset\n",
    "print(\"Loading MNIST dataset...\")\n",
    "(_, _), (x_test, y_test) = mnist.load_data()\n",
    "\n",
    "# Preprocess the data (normalize to 0-1)\n",
    "x_test = x_test.astype('float32') / 255.0\n",
    "\n",
    "# Reshape to include channel dimension (MNIST is grayscale, so 1 channel)\n",
    "x_test = x_test.reshape(-1, 28, 28, 1)\n",
    "\n",
    "print(f\"Loaded {len(x_test)} test images\")\n",
    "print(f\"Data shape: {x_test.shape}\")\n",
    "print(f\"Labels shape: {y_test.shape}\")"
   ]
  },
  {
   "cell_type": "code",
   "execution_count": 5,
   "id": "024eacca-0a50-45d6-8bcf-76759a309ed5",
   "metadata": {},
   "outputs": [
    {
     "name": "stdout",
     "output_type": "stream",
     "text": [
      "Loading MNIST dataset...\n",
      "Loaded 10000 test images\n",
      "Data shape: (10000, 28, 28, 1)\n",
      "Labels shape: (10000,)\n"
     ]
    }
   ],
   "source": [
    "# Load MNIST dataset\n",
    "print(\"Loading MNIST dataset...\")\n",
    "(_, _), (x_test, y_test) = mnist.load_data()\n",
    "\n",
    "# Preprocess the data (normalize to 0-1)\n",
    "x_test = x_test.astype('float32') / 255.0\n",
    "\n",
    "# Reshape to include channel dimension (MNIST is grayscale, so 1 channel)\n",
    "x_test = x_test.reshape(-1, 28, 28, 1)\n",
    "\n",
    "print(f\"Loaded {len(x_test)} test images\")\n",
    "print(f\"Data shape: {x_test.shape}\")\n",
    "print(f\"Labels shape: {y_test.shape}\")"
   ]
  },
  {
   "cell_type": "code",
   "execution_count": 6,
   "id": "07ea3b96-cefb-447b-b7e6-e509d0b55861",
   "metadata": {},
   "outputs": [
    {
     "data": {
      "image/png": "[encoded data removed]",
      "text/plain": [
       "<Figure size 1200x500 with 10 Axes>"
      ]
     },
     "metadata": {},
     "output_type": "display_data"
    }
   ],
   "source": [
    "# Display some test images\n",
    "plt.figure(figsize=(12, 5))\n",
    "for i in range(10):\n",
    "    plt.subplot(2, 5, i+1)\n",
    "    plt.imshow(x_test[i].reshape(28, 28), cmap='gray')\n",
    "    plt.title(f\"Label: {y_test[i]}\")\n",
    "    plt.axis('off')\n",
    "plt.tight_layout()\n",
    "plt.show()"
   ]
  },
  {
   "cell_type": "markdown",
   "id": "8acffa57-77a2-4598-b92e-0ae482276d4e",
   "metadata": {},
   "source": [
    "### Verify Model Predictions\n",
    "\n",
    "Before attempting any attack, let's verify that the deployed model is correctly classifying the original images."
   ]
  },
  {
   "cell_type": "code",
   "execution_count": 7,
   "id": "00da01c0-2298-41c5-b80a-5f158ccac3cd",
   "metadata": {},
   "outputs": [
    {
     "name": "stdout",
     "output_type": "stream",
     "text": [
      "Testing model predictions on original images...\n",
      "Sample 1: True label = 6, Predicted class = 6, Confidence = 1.0000\n",
      "Sample 2: True label = 2, Predicted class = 2, Confidence = 1.0000\n",
      "Sample 3: True label = 3, Predicted class = 3, Confidence = 1.0000\n",
      "Sample 4: True label = 7, Predicted class = 7, Confidence = 0.9988\n",
      "Sample 5: True label = 2, Predicted class = 2, Confidence = 1.0000\n"
     ]
    }
   ],
   "source": [
    "# Test model predictions on a few original images\n",
    "num_test_samples = 5\n",
    "test_indices = np.random.choice(len(x_test), num_test_samples, replace=False)\n",
    "\n",
    "print(\"Testing model predictions on original images...\")\n",
    "for i, idx in enumerate(test_indices):\n",
    "    # Get the image and true label\n",
    "    image = x_test[idx]\n",
    "    true_label = y_test[idx]\n",
    "    \n",
    "    # Get model prediction\n",
    "    result = get_prediction(image)\n",
    "    predicted_class = result['predicted_class']\n",
    "    confidence = result['confidence']\n",
    "    \n",
    "    print(f\"Sample {i+1}: True label = {true_label}, Predicted class = {predicted_class}, Confidence = {confidence:.4f}\")"
   ]
  },
  {
   "cell_type": "markdown",
   "id": "4daf25ab-dc79-4a5b-a8ed-3c7554bcf46a",
   "metadata": {},
   "source": [
    "## 4. Implement the C&W Attack\n",
    "\n",
    "The C&W attack is more complex than FGSM or PGD. It formulates the problem of generating adversarial examples as an optimization task. The key steps are:\n",
    "\n",
    "1. Define a change of variable to ensure that adversarial examples remain within valid bounds (0-1)\n",
    "2. Define a loss function that encourages misclassification\n",
    "3. Optimize for both minimal perturbation and successful misclassification\n",
    "4. Convert the optimized variable back to a valid image\n",
    "\n",
    "For MNIST, we'll implement the $L_2$ version of the C&W attack, which minimizes the Euclidean distance between the original and adversarial examples."
   ]
  },
  {
   "cell_type": "code",
   "execution_count": 8,
   "id": "667c1b01-9fee-45c4-b62d-7946a30b4317",
   "metadata": {},
   "outputs": [],
   "source": [
    "def cw_loss(original_image, target_label, confidence=0):\n",
    "    \"\"\"\n",
    "    Compute the C&W loss function for a given image and target label\n",
    "    \n",
    "    Args:\n",
    "        original_image: Original input image\n",
    "        target_label: The true label (for untargeted attack, we want to maximize loss for this label)\n",
    "        confidence: Confidence parameter that controls the margin between classes\n",
    "    \n",
    "    Returns:\n",
    "        Loss value\n",
    "    \"\"\"\n",
    "    result = get_prediction(original_image)\n",
    "    probabilities = np.array([float(result['class_probabilities'][str(i)]) for i in range(10)])\n",
    "    \n",
    "    # Get the probability of the true class and the max of other classes\n",
    "    target_prob = probabilities[target_label]\n",
    "    other_probs = np.delete(probabilities, target_label)\n",
    "    max_other_prob = np.max(other_probs)\n",
    "    \n",
    "    # Return the difference between the target class probability and the highest other class probability\n",
    "    # For a successful adversarial example, this should be negative (max_other_prob > target_prob)\n",
    "    return np.maximum(target_prob - max_other_prob + confidence, 0)\n",
    "\n",
    "def cw_attack(image, label, max_iterations=100, learning_rate=0.01, c=10.0, confidence=0):\n",
    "    \"\"\"\n",
    "    Generates an adversarial example using the Carlini & Wagner L2 attack\n",
    "    \n",
    "    Args:\n",
    "        image: Input image to be perturbed (numpy array)\n",
    "        label: True label of the image\n",
    "        max_iterations: Maximum number of optimization iterations\n",
    "        learning_rate: Learning rate for the optimization\n",
    "        c: Constant that balances the importance of the distance term vs. the loss term\n",
    "        confidence: Confidence parameter for the C&W loss function\n",
    "        \n",
    "    Returns:\n",
    "        Adversarial example\n",
    "    \"\"\"\n",
    "    # Flatten the image for easier optimization\n",
    "    image_flat = image.flatten()\n",
    "    \n",
    "    # Initialize the perturbation (start with a small random noise)\n",
    "    # We use a change of variable: delta = 0.5 * (tanh(w) + 1) - image\n",
    "    # This ensures the adversarial example (image + delta) stays within [0, 1]\n",
    "    # w is the variable we optimize\n",
    "    w = np.zeros_like(image_flat)\n",
    "    \n",
    "    # Simple gradient descent optimization\n",
    "    for i in range(max_iterations):\n",
    "        # Convert w to an adversarial example using the change of variable\n",
    "        delta = 0.5 * (np.tanh(w) + 1) - image_flat\n",
    "        adv_image = (image_flat + delta).reshape(image.shape)\n",
    "        \n",
    "        # Calculate the loss\n",
    "        loss_value = cw_loss(adv_image, label, confidence)\n",
    "        \n",
    "        # If we've successfully fooled the model with the desired confidence, \n",
    "        # and this is not a targeted attack, we're done\n",
    "        if loss_value == 0:\n",
    "            break\n",
    "        \n",
    "        # Get the gradient of the loss with respect to the input\n",
    "        gradient = get_gradient(adv_image, label).flatten()\n",
    "        \n",
    "        # Update w using the gradient\n",
    "        # For untargeted attack, we want to maximize the loss, so we add the gradient\n",
    "        w += learning_rate * gradient\n",
    "        \n",
    "        # Print progress\n",
    "        if (i + 1) % 10 == 0:\n",
    "            # Calculate L2 distance\n",
    "            l2_dist = np.linalg.norm(delta)\n",
    "            print(f\"Iteration {i+1}/{max_iterations}, Loss: {loss_value:.4f}, L2 Distance: {l2_dist:.4f}\")\n",
    "    \n",
    "    # Final conversion to adversarial example\n",
    "    delta = 0.5 * (np.tanh(w) + 1) - image_flat\n",
    "    adv_image = (image_flat + delta).reshape(image.shape)\n",
    "    \n",
    "    # Ensure the adversarial example is within valid range [0, 1]\n",
    "    adv_image = np.clip(adv_image, 0, 1)\n",
    "    \n",
    "    return adv_image"
   ]
  },
  {
   "cell_type": "markdown",
   "id": "b1682146-eeea-4953-a122-5e51802328fd",
   "metadata": {},
   "source": [
    "## 5. Generate Adversarial Examples\n",
    "\n",
    "Now let's generate adversarial examples for a subset of the test data using the C&W attack. Note that the C&W attack is computationally intensive, so we'll use a smaller sample size."
   ]
  },
  {
   "cell_type": "code",
   "execution_count": 9,
   "id": "fa75b9cc-8d01-458e-a3f6-744e77dfff1b",
   "metadata": {},
   "outputs": [
    {
     "name": "stdout",
     "output_type": "stream",
     "text": [
      "Generating adversarial examples using C&W attack with:\n",
      "  - max_iterations: 50\n",
      "  - learning_rate: 0.01\n",
      "  - c: 10.0\n",
      "  - confidence: 0\n"
     ]
    },
    {
     "data": {
      "application/vnd.jupyter.widget-view+json": {
       "model_id": "1701b677937649c5805839e851da8bda",
       "version_major": 2,
       "version_minor": 0
      },
      "text/plain": [
       "  0%|          | 0/5 [00:00<?, ?it/s]"
      ]
     },
     "metadata": {},
     "output_type": "display_data"
    },
    {
     "name": "stdout",
     "output_type": "stream",
     "text": [
      "\n",
      "Attacking sample 1/5, Image index: 6366, True label: 7\n",
      "Original prediction: 7, Adversarial prediction: 8\n",
      "\n",
      "Attacking sample 2/5, Image index: 9628, True label: 7\n",
      "Original prediction: 7, Adversarial prediction: 8\n",
      "\n",
      "Attacking sample 3/5, Image index: 5916, True label: 6\n",
      "Original prediction: 6, Adversarial prediction: 8\n",
      "\n",
      "Attacking sample 4/5, Image index: 681, True label: 9\n",
      "Original prediction: 9, Adversarial prediction: 8\n",
      "\n",
      "Attacking sample 5/5, Image index: 5459, True label: 0\n",
      "Original prediction: 0, Adversarial prediction: 8\n",
      "Generated 5 adversarial examples\n"
     ]
    }
   ],
   "source": [
    "# Define the number of samples to attack and the attack parameters\n",
    "num_samples = 5  # Smaller sample size due to computational complexity\n",
    "max_iterations = 50  # Number of optimization iterations\n",
    "learning_rate = 0.01  # Learning rate for optimization\n",
    "c = 10.0  # Balance constant\n",
    "confidence = 0  # Confidence parameter\n",
    "\n",
    "# Randomly select samples from the test set\n",
    "sample_indices = np.random.choice(len(x_test), num_samples, replace=False)\n",
    "\n",
    "# Lists to store results\n",
    "original_images = []\n",
    "adversarial_images = []\n",
    "original_preds = []\n",
    "adversarial_preds = []\n",
    "true_labels = []\n",
    "perturbations = []\n",
    "\n",
    "print(f\"Generating adversarial examples using C&W attack with:\")\n",
    "print(f\"  - max_iterations: {max_iterations}\")\n",
    "print(f\"  - learning_rate: {learning_rate}\")\n",
    "print(f\"  - c: {c}\")\n",
    "print(f\"  - confidence: {confidence}\")\n",
    "\n",
    "# Generate adversarial examples\n",
    "for i, idx in enumerate(tqdm(sample_indices)):\n",
    "    # Get the original image and label\n",
    "    original_image = x_test[idx]\n",
    "    true_label = y_test[idx]\n",
    "    \n",
    "    # Get original prediction\n",
    "    try:\n",
    "        orig_result = get_prediction(original_image)\n",
    "        original_pred = orig_result['predicted_class']\n",
    "        \n",
    "        # Only attack correctly classified images\n",
    "        if int(original_pred) == true_label:\n",
    "            print(f\"\\nAttacking sample {i+1}/{len(sample_indices)}, Image index: {idx}, True label: {true_label}\")\n",
    "            \n",
    "            # Generate adversarial example\n",
    "            adversarial_image = cw_attack(\n",
    "                original_image, \n",
    "                true_label, \n",
    "                max_iterations=max_iterations,\n",
    "                learning_rate=learning_rate,\n",
    "                c=c,\n",
    "                confidence=confidence\n",
    "            )\n",
    "            \n",
    "            # Calculate perturbation\n",
    "            perturbation = adversarial_image - original_image\n",
    "            \n",
    "            # Get adversarial prediction\n",
    "            adv_result = get_prediction(adversarial_image)\n",
    "            adversarial_pred = adv_result['predicted_class']\n",
    "            \n",
    "            print(f\"Original prediction: {original_pred}, Adversarial prediction: {adversarial_pred}\")\n",
    "            \n",
    "            # Store results\n",
    "            original_images.append(original_image)\n",
    "            adversarial_images.append(adversarial_image)\n",
    "            original_preds.append(original_pred)\n",
    "            adversarial_preds.append(adversarial_pred)\n",
    "            true_labels.append(true_label)\n",
    "            perturbations.append(perturbation)\n",
    "    except Exception as e:\n",
    "        print(f\"Error processing sample {idx}: {e}\")\n",
    "        continue\n",
    "        \n",
    "# Convert lists to numpy arrays for easier handling\n",
    "original_images = np.array(original_images)\n",
    "adversarial_images = np.array(adversarial_images)\n",
    "original_preds = np.array(original_preds)\n",
    "adversarial_preds = np.array(adversarial_preds)\n",
    "true_labels = np.array(true_labels)\n",
    "perturbations = np.array(perturbations)\n",
    "\n",
    "print(f\"Generated {len(adversarial_images)} adversarial examples\")"
   ]
  },
  {
   "cell_type": "markdown",
   "id": "8befb512-43cf-43a9-b7d4-c023fbb2d6b8",
   "metadata": {},
   "source": [
    "## 6. Evaluate Attack Success Rate\n",
    "\n",
    "Let's evaluate how successful our C&W attack was by calculating the attack success rate."
   ]
  },
  {
   "cell_type": "code",
   "execution_count": 10,
   "id": "27fad186-552c-43e7-8dd6-d0278e44059f",
   "metadata": {},
   "outputs": [
    {
     "name": "stdout",
     "output_type": "stream",
     "text": [
      "Attack Success Rate: 100.00%\n",
      "Number of successful attacks: 5 out of 5\n",
      "Average L2 perturbation magnitude: 13.4450\n",
      "Average L∞ perturbation magnitude: 0.5000\n"
     ]
    }
   ],
   "source": [
    "# Calculate attack success rate\n",
    "successful_attacks = (adversarial_preds != true_labels)\n",
    "attack_success_rate = np.mean(successful_attacks) * 100\n",
    "\n",
    "print(f\"Attack Success Rate: {attack_success_rate:.2f}%\")\n",
    "print(f\"Number of successful attacks: {np.sum(successful_attacks)} out of {len(adversarial_images)}\")\n",
    "\n",
    "# Calculate average perturbation magnitude\n",
    "avg_perturbation_l2 = np.mean([np.linalg.norm(p) for p in perturbations])\n",
    "avg_perturbation_linf = np.mean([np.max(np.abs(p)) for p in perturbations])\n",
    "\n",
    "print(f\"Average L2 perturbation magnitude: {avg_perturbation_l2:.4f}\")\n",
    "print(f\"Average L∞ perturbation magnitude: {avg_perturbation_linf:.4f}\")"
   ]
  },
  {
   "cell_type": "markdown",
   "id": "c28491a0-1067-4738-809e-71bed7231ee3",
   "metadata": {},
   "source": [
    "## 7. Visualize Results\n",
    "\n",
    "Now, let's visualize the original images, perturbations, and adversarial examples to better understand the attack."
   ]
  },
  {
   "cell_type": "code",
   "execution_count": 11,
   "id": "b1181623-8ae3-4720-8af7-3b3bafb968ca",
   "metadata": {},
   "outputs": [
    {
     "data": {
      "image/png": "[encoded data removed]",
      "text/plain": [
       "<Figure size 1500x2500 with 20 Axes>"
      ]
     },
     "metadata": {},
     "output_type": "display_data"
    }
   ],
   "source": [
    "# Display all the results\n",
    "num_to_display = len(adversarial_images)\n",
    "\n",
    "plt.figure(figsize=(15, 5 * num_to_display))\n",
    "\n",
    "for i in range(num_to_display):\n",
    "    # Original image\n",
    "    plt.subplot(num_to_display, 3, 3*i + 1)\n",
    "    plt.imshow(original_images[i].reshape(28, 28), cmap='gray')\n",
    "    plt.title(f\"Original\\nTrue: {true_labels[i]}, Pred: {original_preds[i]}\")\n",
    "    plt.axis('off')\n",
    "    \n",
    "    # Perturbation\n",
    "    plt.subplot(num_to_display, 3, 3*i + 2)\n",
    "    plt.imshow(perturbations[i].reshape(28, 28), cmap='RdBu_r')\n",
    "    plt.title(f\"Perturbation\\nL2 Norm: {np.linalg.norm(perturbations[i]):.4f}\")\n",
    "    plt.colorbar(fraction=0.046, pad=0.04)\n",
    "    plt.axis('off')\n",
    "    \n",
    "    # Adversarial image\n",
    "    plt.subplot(num_to_display, 3, 3*i + 3)\n",
    "    plt.imshow(adversarial_images[i].reshape(28, 28), cmap='gray')\n",
    "    color = 'green' if successful_attacks[i] else 'red'\n",
    "    result = 'Success' if successful_attacks[i] else 'Failure'\n",
    "    plt.title(f\"Adversarial\\nPred: {adversarial_preds[i]}\\nAttack: {result}\", color=color)\n",
    "    plt.axis('off')\n",
    "\n",
    "plt.tight_layout()\n",
    "plt.show()"
   ]
  },
  {
   "cell_type": "markdown",
   "id": "0d1b42b0-aa77-41a0-bf02-58b9de970f44",
   "metadata": {},
   "source": [
    "## 8. Analyze the Perturbation Distribution\n",
    "\n",
    "Let's analyze the distribution of the perturbations created by the C&W attack."
   ]
  },
  {
   "cell_type": "code",
   "execution_count": 12,
   "id": "c520c1f5-9cc5-492b-b502-b201b1f000d8",
   "metadata": {},
   "outputs": [
    {
     "data": {
      "image/png": "[encoded data removed]",
      "text/plain": [
       "<Figure size 1500x500 with 3 Axes>"
      ]
     },
     "metadata": {},
     "output_type": "display_data"
    }
   ],
   "source": [
    "# Analyze perturbation distribution\n",
    "plt.figure(figsize=(15, 5))\n",
    "\n",
    "# Plot histogram of perturbation values\n",
    "plt.subplot(1, 3, 1)\n",
    "all_perturbations = np.concatenate([p.flatten() for p in perturbations])\n",
    "plt.hist(all_perturbations, bins=50, color='blue', alpha=0.7)\n",
    "plt.title('Distribution of Perturbation Values')\n",
    "plt.xlabel('Perturbation Value')\n",
    "plt.ylabel('Frequency')\n",
    "\n",
    "# Plot L2 norms for each example\n",
    "plt.subplot(1, 3, 2)\n",
    "l2_norms = [np.linalg.norm(p) for p in perturbations]\n",
    "plt.bar(range(len(l2_norms)), l2_norms, color='green')\n",
    "plt.title('L2 Norm of Perturbations')\n",
    "plt.xlabel('Example Index')\n",
    "plt.ylabel('L2 Norm')\n",
    "\n",
    "# Plot L∞ norms for each example\n",
    "plt.subplot(1, 3, 3)\n",
    "linf_norms = [np.max(np.abs(p)) for p in perturbations]\n",
    "plt.bar(range(len(linf_norms)), linf_norms, color='red')\n",
    "plt.title('L∞ Norm of Perturbations')\n",
    "plt.xlabel('Example Index')\n",
    "plt.ylabel('L∞ Norm')\n",
    "\n",
    "plt.tight_layout()\n",
    "plt.show()"
   ]
  },
  {
   "cell_type": "markdown",
   "id": "7f280d3a-5dc2-4e71-bf7d-189fcd23d66c",
   "metadata": {},
   "source": [
    "## 9. Compare with FGSM and PGD\n",
    "\n",
    "Let's implement simplified versions of FGSM and PGD to compare with the C&W attack."
   ]
  },
  {
   "cell_type": "code",
   "execution_count": 13,
   "id": "943b0331-3f66-40c8-ae3a-5d5352178536",
   "metadata": {},
   "outputs": [
    {
     "name": "stdout",
     "output_type": "stream",
     "text": [
      "Comparing C&W with FGSM and PGD attacks on the same images...\n",
      "Processing image 1/5...\n",
      "Processing image 2/5...\n",
      "Processing image 3/5...\n",
      "Processing image 4/5...\n",
      "Processing image 5/5...\n",
      "\n",
      "FGSM success rate: 0.00%\n",
      "PGD success rate: 20.00%\n",
      "C&W success rate: 100.00%\n"
     ]
    }
   ],
   "source": [
    "def fgsm_attack(image, label, epsilon=0.1):\n",
    "    \"\"\"\n",
    "    Generates an adversarial example using the Fast Gradient Sign Method\n",
    "    \n",
    "    Args:\n",
    "        image: Input image to be perturbed (numpy array)\n",
    "        label: True label of the image\n",
    "        epsilon: Perturbation magnitude\n",
    "        \n",
    "    Returns:\n",
    "        Adversarial example\n",
    "    \"\"\"\n",
    "    # Get the gradient of the loss with respect to the input\n",
    "    gradient = get_gradient(image, label)\n",
    "    \n",
    "    # Take the sign of the gradient\n",
    "    sign_gradient = np.sign(gradient)\n",
    "    \n",
    "    # Perturb the input in the direction of the sign of the gradient\n",
    "    perturbed_image = image + epsilon * sign_gradient\n",
    "    \n",
    "    # Clip the perturbed image to ensure it's within the valid range (0-1)\n",
    "    perturbed_image = np.clip(perturbed_image, 0, 1)\n",
    "    \n",
    "    return perturbed_image\n",
    "\n",
    "def pgd_attack(image, label, epsilon=0.1, alpha=0.01, num_iterations=10, random_start=True):\n",
    "    \"\"\"\n",
    "    Generates an adversarial example using the Projected Gradient Descent method\n",
    "    \n",
    "    Args:\n",
    "        image: Input image to be perturbed (numpy array)\n",
    "        label: True label of the image\n",
    "        epsilon: Maximum perturbation magnitude (L∞ norm)\n",
    "        alpha: Step size for each iteration\n",
    "        num_iterations: Number of iterations to run the attack\n",
    "        random_start: Whether to start with a random perturbation within the epsilon-ball\n",
    "        \n",
    "    Returns:\n",
    "        Adversarial example\n",
    "    \"\"\"\n",
    "    # Initialize the adversarial example (optionally with random noise)\n",
    "    if random_start:\n",
    "        # Start with random noise within epsilon-ball\n",
    "        noise = np.random.uniform(-epsilon, epsilon, image.shape)\n",
    "        adv_image = image + noise\n",
    "        adv_image = np.clip(adv_image, 0, 1)  # Ensure valid image range\n",
    "    else:\n",
    "        # Start with the original image\n",
    "        adv_image = np.copy(image)\n",
    "    \n",
    "    # Iteratively refine the adversarial example\n",
    "    for i in range(num_iterations):\n",
    "        # Calculate gradient\n",
    "        gradient = get_gradient(adv_image, label)\n",
    "        \n",
    "        # Take a step in the direction of the sign of the gradient\n",
    "        signed_gradient = np.sign(gradient)\n",
    "        adv_image = adv_image + alpha * signed_gradient\n",
    "        \n",
    "        # Project the perturbation back onto the epsilon-ball\n",
    "        perturbation = adv_image - image\n",
    "        perturbation = np.clip(perturbation, -epsilon, epsilon)\n",
    "        adv_image = image + perturbation\n",
    "        \n",
    "        # Clip to valid image range\n",
    "        adv_image = np.clip(adv_image, 0, 1)\n",
    "    \n",
    "    return adv_image\n",
    "\n",
    "# Compare attacks on a small subset of images\n",
    "if len(original_images) > 0:\n",
    "    print(\"Comparing C&W with FGSM and PGD attacks on the same images...\")\n",
    "    \n",
    "    # Parameters for FGSM and PGD\n",
    "    fgsm_epsilon = 0.1\n",
    "    pgd_epsilon = 0.1\n",
    "    pgd_alpha = 0.01\n",
    "    pgd_iterations = 10\n",
    "    \n",
    "    # Lists to store results\n",
    "    fgsm_adv_images = []\n",
    "    pgd_adv_images = []\n",
    "    fgsm_preds = []\n",
    "    pgd_preds = []\n",
    "    fgsm_success = []\n",
    "    pgd_success = []\n",
    "    \n",
    "    for i, (image, true_label) in enumerate(zip(original_images, true_labels)):\n",
    "        print(f\"Processing image {i+1}/{len(original_images)}...\")\n",
    "        \n",
    "        # Generate FGSM and PGD adversarial examples\n",
    "        fgsm_adv = fgsm_attack(image, true_label, epsilon=fgsm_epsilon)\n",
    "        pgd_adv = pgd_attack(image, true_label, epsilon=pgd_epsilon, alpha=pgd_alpha, num_iterations=pgd_iterations)\n",
    "        \n",
    "        # Get predictions\n",
    "        fgsm_result = get_prediction(fgsm_adv)\n",
    "        pgd_result = get_prediction(pgd_adv)\n",
    "        \n",
    "        # Store results\n",
    "        fgsm_adv_images.append(fgsm_adv)\n",
    "        pgd_adv_images.append(pgd_adv)\n",
    "        fgsm_preds.append(fgsm_result['predicted_class'])\n",
    "        pgd_preds.append(pgd_result['predicted_class'])\n",
    "        fgsm_success.append(fgsm_result['predicted_class'] != str(true_label))\n",
    "        pgd_success.append(pgd_result['predicted_class'] != str(true_label))\n",
    "    \n",
    "    # Calculate success rates\n",
    "    fgsm_success_rate = np.mean(fgsm_success) * 100\n",
    "    pgd_success_rate = np.mean(pgd_success) * 100\n",
    "    cw_success_rate = attack_success_rate  # From earlier calculation\n",
    "    \n",
    "    print(f\"\\nFGSM success rate: {fgsm_success_rate:.2f}%\")\n",
    "    print(f\"PGD success rate: {pgd_success_rate:.2f}%\")\n",
    "    print(f\"C&W success rate: {cw_success_rate:.2f}%\")"
   ]
  },
  {
   "cell_type": "code",
   "execution_count": 14,
   "id": "9a084411-6a67-4adb-a2db-c01b6b4ccf2a",
   "metadata": {},
   "outputs": [
    {
     "data": {
      "image/png": "[encoded data removed]",
      "text/plain": [
       "<Figure size 1000x600 with 1 Axes>"
      ]
     },
     "metadata": {},
     "output_type": "display_data"
    },
    {
     "data": {
      "image/png": "[encoded data removed]",
      "text/plain": [
       "<Figure size 1000x600 with 1 Axes>"
      ]
     },
     "metadata": {},
     "output_type": "display_data"
    }
   ],
   "source": [
    "# Compare attack success rates with a bar chart\n",
    "if len(original_images) > 0:\n",
    "    plt.figure(figsize=(10, 6))\n",
    "    attacks = ['FGSM', 'PGD', 'C&W']\n",
    "    success_rates = [fgsm_success_rate, pgd_success_rate, cw_success_rate]\n",
    "    colors = ['#3498db', '#e74c3c', '#2ecc71']\n",
    "    \n",
    "    plt.bar(attacks, success_rates, color=colors)\n",
    "    plt.ylabel('Attack Success Rate (%)', fontsize=12)\n",
    "    plt.title('Comparison of Attack Success Rates', fontsize=14)\n",
    "    plt.ylim([0, 105])\n",
    "    \n",
    "    # Add data labels\n",
    "    for i, rate in enumerate(success_rates):\n",
    "        plt.text(i, rate + 2, f\"{rate:.1f}%\", ha='center')\n",
    "    \n",
    "    plt.tight_layout()\n",
    "    plt.show()\n",
    "    \n",
    "    # Compare perturbation magnitudes\n",
    "    fgsm_l2 = [np.linalg.norm(fgsm - img) for fgsm, img in zip(fgsm_adv_images, original_images)]\n",
    "    pgd_l2 = [np.linalg.norm(pgd - img) for pgd, img in zip(pgd_adv_images, original_images)]\n",
    "    cw_l2 = [np.linalg.norm(cw - img) for cw, img in zip(adversarial_images, original_images)]\n",
    "    \n",
    "    avg_fgsm_l2 = np.mean(fgsm_l2)\n",
    "    avg_pgd_l2 = np.mean(pgd_l2)\n",
    "    avg_cw_l2 = np.mean(cw_l2)\n",
    "    \n",
    "    plt.figure(figsize=(10, 6))\n",
    "    attacks = ['FGSM', 'PGD', 'C&W']\n",
    "    l2_norms = [avg_fgsm_l2, avg_pgd_l2, avg_cw_l2]\n",
    "    colors = ['#3498db', '#e74c3c', '#2ecc71']\n",
    "    \n",
    "    plt.bar(attacks, l2_norms, color=colors)\n",
    "    plt.ylabel('Average L2 Perturbation Magnitude', fontsize=12)\n",
    "    plt.title('Comparison of Perturbation Magnitudes', fontsize=14)\n",
    "    \n",
    "    # Add data labels\n",
    "    for i, norm in enumerate(l2_norms):\n",
    "        plt.text(i, norm + 0.1, f\"{norm:.4f}\", ha='center')\n",
    "    \n",
    "    plt.tight_layout()\n",
    "    plt.show()"
   ]
  },
  {
   "cell_type": "markdown",
   "id": "10917084-3743-430c-ad43-03ca73249529",
   "metadata": {},
   "source": [
    "## Conclusion\n",
    "\n",
    "In this notebook, we have implemented and demonstrated the Carlini & Wagner (C&W) evasion attack against a deployed MNIST digit classifier. We have:\n",
    "\n",
    "1. Implemented the C&W attack algorithm, which is an optimization-based approach\n",
    "2. Generated adversarial examples that successfully fool the model\n",
    "3. Evaluated the attack success rate and analyzed the perturbation distribution\n",
    "4. Compared C&W with the simpler FGSM and PGD attacks\n",
    "\n",
    "Key findings:\n",
    "\n",
    "1. The C&W attack can generate adversarial examples with smaller perturbations compared to FGSM and PGD\n",
    "2. While computationally more expensive, C&W often achieves higher success rates\n",
    "3. The perturbations generated by C&W are more targeted and precise\n",
    "4. The attack can be tuned using various parameters (iterations, learning rate, confidence)\n",
    "\n",
    "The C&W attack demonstrates the vulnerability of neural networks to carefully crafted adversarial examples. By framing the problem as an optimization task, C&W can find perturbations that are both minimal and effective at fooling the model.\n",
    "\n",
    "This reinforces the need for developing robust defenses against these sophisticated attacks, especially in security-critical applications where adversaries might exploit these vulnerabilities."
   ]
  },
  {
   "cell_type": "code",
   "execution_count": null,
   "id": "01739d9a-19d8-40da-bcb2-3449b3fde839",
   "metadata": {},
   "outputs": [],
   "source": []
  },
  {
   "cell_type": "code",
   "execution_count": null,
   "id": "435fcef1-57f9-4561-adae-a727edb2f351",
   "metadata": {},
   "outputs": [],
   "source": []
  },
  {
   "cell_type": "code",
   "execution_count": null,
   "id": "6bcf6dd4-84b2-4ea9-adc2-fb4cfdfd479a",
   "metadata": {},
   "outputs": [],
   "source": []
  },
  {
   "cell_type": "code",
   "execution_count": null,
   "id": "5b14926e-c517-4040-b047-1b3d06f9ddb4",
   "metadata": {},
   "outputs": [],
   "source": []
  },
  {
   "cell_type": "code",
   "execution_count": null,
   "id": "bab71998-17c2-48ea-9467-46f2ceed2842",
   "metadata": {},
   "outputs": [],
   "source": []
  },
  {
   "cell_type": "code",
   "execution_count": null,
   "id": "b2144f09-4dc2-4308-b7e2-3300bb5663c3",
   "metadata": {},
   "outputs": [],
   "source": []
  },
  {
   "cell_type": "code",
   "execution_count": null,
   "id": "bce4d6f9-7641-45f6-b4ef-105942f243a4",
   "metadata": {},
   "outputs": [],
   "source": []
  },
  {
   "cell_type": "code",
   "execution_count": null,
   "id": "30e78dae-46c6-488c-9516-fc546a370f14",
   "metadata": {},
   "outputs": [],
   "source": []
  },
  {
   "cell_type": "code",
   "execution_count": null,
   "id": "9e72407f-a70e-4f0d-8f9c-1f357e0a38a3",
   "metadata": {},
   "outputs": [],
   "source": []
  },
  {
   "cell_type": "code",
   "execution_count": null,
   "id": "7b79a585-b8f4-48eb-b47c-958fb0e17f6f",
   "metadata": {},
   "outputs": [],
   "source": []
  },
  {
   "cell_type": "code",
   "execution_count": null,
   "id": "03952583-4553-4948-9cea-b9e9a483decd",
   "metadata": {},
   "outputs": [],
   "source": []
  },
  {
   "cell_type": "code",
   "execution_count": null,
   "id": "8aa8ca6f-3a60-4ee6-8c3b-d498bc1ca985",
   "metadata": {},
   "outputs": [],
   "source": []
  },
  {
   "cell_type": "code",
   "execution_count": null,
   "id": "646ddd5b-4794-4a1f-be61-79568d3111b9",
   "metadata": {},
   "outputs": [],
   "source": []
  },
  {
   "cell_type": "code",
   "execution_count": null,
   "id": "06852cbb-e07a-41c3-aab3-f42e0d2c4387",
   "metadata": {},
   "outputs": [],
   "source": []
  },
  {
   "cell_type": "code",
   "execution_count": null,
   "id": "04be3f94-e3a6-4312-95c6-874b14c395c1",
   "metadata": {},
   "outputs": [],
   "source": []
  },
  {
   "cell_type": "code",
   "execution_count": null,
   "id": "6b644ee9-3cf3-40e7-a3b4-982348b30b70",
   "metadata": {},
   "outputs": [],
   "source": []
  },
  {
   "cell_type": "code",
   "execution_count": null,
   "id": "caba73d2-bd7f-40e3-8537-f2686cb3e5e2",
   "metadata": {},
   "outputs": [],
   "source": []
  },
  {
   "cell_type": "code",
   "execution_count": null,
   "id": "d0fdb21f-a11f-4431-b900-06b7377e6685",
   "metadata": {},
   "outputs": [],
   "source": []
  },
  {
   "cell_type": "code",
   "execution_count": null,
   "id": "2ed6a232-1e7f-43d0-8569-b450bca0ae59",
   "metadata": {},
   "outputs": [],
   "source": []
  },
  {
   "cell_type": "code",
   "execution_count": null,
   "id": "b0756818-3286-40c0-93c2-ed4cf68f356e",
   "metadata": {},
   "outputs": [],
   "source": []
  },
  {
   "cell_type": "code",
   "execution_count": null,
   "id": "09af0144-18d6-4d9b-9e77-b16c7a0d4079",
   "metadata": {},
   "outputs": [],
   "source": []
  },
  {
   "cell_type": "code",
   "execution_count": null,
   "id": "b8466999-5581-4a59-ad85-8fa3228f7913",
   "metadata": {},
   "outputs": [],
   "source": []
  },
  {
   "cell_type": "code",
   "execution_count": null,
   "id": "4b9ec679-c621-4e35-8de1-34c0bfcaa03a",
   "metadata": {},
   "outputs": [],
   "source": []
  },
  {
   "cell_type": "code",
   "execution_count": null,
   "id": "8b05e70f-cf8d-402d-a790-74064921ba5d",
   "metadata": {},
   "outputs": [],
   "source": []
  },
  {
   "cell_type": "code",
   "execution_count": null,
   "id": "1fb5c140-de2e-442b-b6da-878c3b97f74e",
   "metadata": {},
   "outputs": [],
   "source": []
  },
  {
   "cell_type": "code",
   "execution_count": null,
   "id": "df72b053-a91f-4122-8251-0cdf06f8f686",
   "metadata": {},
   "outputs": [],
   "source": []
  },
  {
   "cell_type": "code",
   "execution_count": null,
   "id": "a7cc1f85-08e5-4e62-ae53-3ec201005353",
   "metadata": {},
   "outputs": [],
   "source": []
  },
  {
   "cell_type": "code",
   "execution_count": null,
   "id": "63d6cf1b-f916-4c85-aff9-66c1a660761d",
   "metadata": {},
   "outputs": [],
   "source": []
  },
  {
   "cell_type": "code",
   "execution_count": null,
   "id": "85b57664-1f81-4d5a-b571-0af7b32f07c5",
   "metadata": {},
   "outputs": [],
   "source": []
  },
  {
   "cell_type": "code",
   "execution_count": null,
   "id": "08a4558e-4310-483c-89df-63b6f32eaea8",
   "metadata": {},
   "outputs": [],
   "source": []
  },
  {
   "cell_type": "code",
   "execution_count": null,
   "id": "b5dafdd9-9349-4e29-8ab6-ca739b93ef1a",
   "metadata": {},
   "outputs": [],
   "source": []
  },
  {
   "cell_type": "code",
   "execution_count": null,
   "id": "1c5840a3-ea5c-400c-87fa-8f6d3e077353",
   "metadata": {},
   "outputs": [],
   "source": []
  },
  {
   "cell_type": "code",
   "execution_count": null,
   "id": "41abf2a1-5fd2-4c8c-a7d9-600086626e6b",
   "metadata": {},
   "outputs": [],
   "source": []
  },
  {
   "cell_type": "code",
   "execution_count": null,
   "id": "369beb7a-713a-4ed4-aa09-244e8a906920",
   "metadata": {},
   "outputs": [],
   "source": []
  },
  {
   "cell_type": "code",
   "execution_count": null,
   "id": "ea98297c-36ee-4380-a553-8af97774c909",
   "metadata": {},
   "outputs": [],
   "source": []
  },
  {
   "cell_type": "code",
   "execution_count": null,
   "id": "c6414c0a-5fab-4146-94a9-4a3c09df36bb",
   "metadata": {},
   "outputs": [],
   "source": []
  },
  {
   "cell_type": "code",
   "execution_count": null,
   "id": "0e38976b-261c-4abc-a15d-3fa0254ad7a9",
   "metadata": {},
   "outputs": [],
   "source": []
  },
  {
   "cell_type": "code",
   "execution_count": null,
   "id": "3bc55584-5779-4c0c-a13f-a0ab5f9fbeb4",
   "metadata": {},
   "outputs": [],
   "source": []
  },
  {
   "cell_type": "code",
   "execution_count": null,
   "id": "13e50181-554d-4ab7-a2c9-1f508742143a",
   "metadata": {},
   "outputs": [],
   "source": []
  },
  {
   "cell_type": "code",
   "execution_count": null,
   "id": "a988ac4f-6950-4a17-833c-8a6c6251349c",
   "metadata": {},
   "outputs": [],
   "source": []
  },
  {
   "cell_type": "code",
   "execution_count": null,
   "id": "998d3a70-0cb5-4009-a194-66f4930fc554",
   "metadata": {},
   "outputs": [],
   "source": []
  },
  {
   "cell_type": "code",
   "execution_count": null,
   "id": "62bd3cf0-ba76-481c-9feb-51d59a673157",
   "metadata": {},
   "outputs": [],
   "source": []
  },
  {
   "cell_type": "code",
   "execution_count": null,
   "id": "bbcf3c3d-c7a4-4f8f-9ac9-8c264a8fa56e",
   "metadata": {},
   "outputs": [],
   "source": []
  },
  {
   "cell_type": "code",
   "execution_count": null,
   "id": "1569dd9a-1600-4c20-b3f6-8686a66dc3f3",
   "metadata": {},
   "outputs": [],
   "source": []
  },
  {
   "cell_type": "code",
   "execution_count": null,
   "id": "5f89847f-99e1-4c99-8a4b-498cf67c5d48",
   "metadata": {},
   "outputs": [],
   "source": []
  },
  {
   "cell_type": "code",
   "execution_count": null,
   "id": "a3b6536f-a7cd-43e3-9457-d904fb03ffcb",
   "metadata": {},
   "outputs": [],
   "source": []
  },
  {
   "cell_type": "code",
   "execution_count": null,
   "id": "75d13eae-907b-4993-9c4a-77b46171dade",
   "metadata": {},
   "outputs": [],
   "source": []
  },
  {
   "cell_type": "code",
   "execution_count": null,
   "id": "95b2765e-8349-4d8a-b3cb-cedba49a17cf",
   "metadata": {},
   "outputs": [],
   "source": []
  },
  {
   "cell_type": "code",
   "execution_count": null,
   "id": "5df98c10-328c-4b2f-902b-7f112095a3bc",
   "metadata": {},
   "outputs": [],
   "source": []
  },
  {
   "cell_type": "code",
   "execution_count": null,
   "id": "7c6aca7c-5ceb-480f-9e65-3553e443c5bf",
   "metadata": {},
   "outputs": [],
   "source": []
  },
  {
   "cell_type": "code",
   "execution_count": null,
   "id": "0dd95044-93be-4cf0-9dd3-8665f46904a8",
   "metadata": {},
   "outputs": [],
   "source": []
  },
  {
   "cell_type": "code",
   "execution_count": null,
   "id": "2b266fe6-3900-4336-80d9-95f554d9ecf3",
   "metadata": {},
   "outputs": [],
   "source": []
  },
  {
   "cell_type": "code",
   "execution_count": null,
   "id": "1719bd6f-c8ec-4bfb-9338-770d71649863",
   "metadata": {},
   "outputs": [],
   "source": []
  },
  {
   "cell_type": "code",
   "execution_count": null,
   "id": "c51a613a-2c60-42b8-871c-1dc8896f8371",
   "metadata": {},
   "outputs": [],
   "source": []
  },
  {
   "cell_type": "code",
   "execution_count": null,
   "id": "6bc8a155-e4b7-46ab-b924-58b7586b43ef",
   "metadata": {},
   "outputs": [],
   "source": []
  },
  {
   "cell_type": "code",
   "execution_count": null,
   "id": "c9579080-bfbd-458b-94ea-846a07554b5d",
   "metadata": {},
   "outputs": [],
   "source": []
  },
  {
   "cell_type": "code",
   "execution_count": null,
   "id": "6ff4d932-72d4-417c-834e-c619294fc0ee",
   "metadata": {},
   "outputs": [],
   "source": []
  },
  {
   "cell_type": "code",
   "execution_count": null,
   "id": "d1337a70-8b22-4e78-a1d2-00057f40616b",
   "metadata": {},
   "outputs": [],
   "source": []
  },
  {
   "cell_type": "code",
   "execution_count": null,
   "id": "80fec884-5e7f-468f-9988-ac7c74cd1759",
   "metadata": {},
   "outputs": [],
   "source": []
  },
  {
   "cell_type": "code",
   "execution_count": null,
   "id": "79b55185-4f76-43eb-b086-56a724d4b3cd",
   "metadata": {},
   "outputs": [],
   "source": []
  },
  {
   "cell_type": "code",
   "execution_count": null,
   "id": "96d9da43-48f3-4013-997c-a60ab5c68673",
   "metadata": {},
   "outputs": [],
   "source": []
  },
  {
   "cell_type": "code",
   "execution_count": null,
   "id": "d7bb5f22-305f-4b0c-be08-5056849a9538",
   "metadata": {},
   "outputs": [],
   "source": []
  },
  {
   "cell_type": "code",
   "execution_count": null,
   "id": "4696b0b0-cbad-421b-a496-2f40d125ae60",
   "metadata": {},
   "outputs": [],
   "source": []
  },
  {
   "cell_type": "code",
   "execution_count": null,
   "id": "c23f07f9-afbc-45d0-a451-c0b3e1169dd3",
   "metadata": {},
   "outputs": [],
   "source": []
  },
  {
   "cell_type": "code",
   "execution_count": null,
   "id": "67eaba61-9d92-4e6e-94ec-750009c382a7",
   "metadata": {},
   "outputs": [],
   "source": []
  },
  {
   "cell_type": "code",
   "execution_count": null,
   "id": "93472c64-1d47-46ea-89d2-20ac090155c5",
   "metadata": {},
   "outputs": [],
   "source": []
  },
  {
   "cell_type": "code",
   "execution_count": null,
   "id": "551680ff-d45a-4a0a-93c3-8d618aa462ac",
   "metadata": {},
   "outputs": [],
   "source": []
  },
  {
   "cell_type": "code",
   "execution_count": null,
   "id": "95162b9a-9cdf-413c-83ec-ae69c856f7e3",
   "metadata": {},
   "outputs": [],
   "source": []
  },
  {
   "cell_type": "code",
   "execution_count": null,
   "id": "aa181384-ed6b-4473-b635-98f668aff0e6",
   "metadata": {},
   "outputs": [],
   "source": []
  },
  {
   "cell_type": "code",
   "execution_count": null,
   "id": "781eae80-9e54-45c5-b2ea-343a77db3140",
   "metadata": {},
   "outputs": [],
   "source": []
  },
  {
   "cell_type": "code",
   "execution_count": null,
   "id": "cffa24d9-cbfe-47a0-9951-1ca4756c54c0",
   "metadata": {},
   "outputs": [],
   "source": []
  },
  {
   "cell_type": "code",
   "execution_count": null,
   "id": "39b3b9a8-eab1-4448-97e8-7ee3d211235e",
   "metadata": {},
   "outputs": [],
   "source": []
  },
  {
   "cell_type": "code",
   "execution_count": null,
   "id": "dd034194-7ae2-45f9-bb1f-20893d2d7935",
   "metadata": {},
   "outputs": [],
   "source": []
  },
  {
   "cell_type": "code",
   "execution_count": null,
   "id": "cc9cd9a7-f28c-464d-9078-80e5dad61edf",
   "metadata": {},
   "outputs": [],
   "source": []
  },
  {
   "cell_type": "code",
   "execution_count": null,
   "id": "577c6cbf-ed2e-406b-9ea5-1f4710fc2c90",
   "metadata": {},
   "outputs": [],
   "source": []
  },
  {
   "cell_type": "code",
   "execution_count": null,
   "id": "a26b6a28-0f9e-420a-bb08-80ae3a881f5d",
   "metadata": {},
   "outputs": [],
   "source": []
  },
  {
   "cell_type": "code",
   "execution_count": null,
   "id": "b18ef09b-2a5f-4e00-893d-e027c20d6fe9",
   "metadata": {},
   "outputs": [],
   "source": []
  },
  {
   "cell_type": "code",
   "execution_count": null,
   "id": "3a226750-fd1f-4b1c-a7a8-160a7f76b682",
   "metadata": {},
   "outputs": [],
   "source": []
  },
  {
   "cell_type": "code",
   "execution_count": null,
   "id": "c69c9c6c-4ccf-457e-bcef-eff1df543e2d",
   "metadata": {},
   "outputs": [],
   "source": []
  },
  {
   "cell_type": "code",
   "execution_count": null,
   "id": "b843e0e3-50e3-4749-baa7-8d7ee3e1d396",
   "metadata": {},
   "outputs": [],
   "source": []
  },
  {
   "cell_type": "code",
   "execution_count": null,
   "id": "a8823fc1-de68-4f9d-aae2-4ac27b5b1bd0",
   "metadata": {},
   "outputs": [],
   "source": []
  },
  {
   "cell_type": "code",
   "execution_count": null,
   "id": "733e4d54-dfce-4f96-b148-5bb9f54b4019",
   "metadata": {},
   "outputs": [],
   "source": []
  },
  {
   "cell_type": "code",
   "execution_count": null,
   "id": "915bd0c5-bdca-4311-829e-44038b67aeff",
   "metadata": {},
   "outputs": [],
   "source": []
  },
  {
   "cell_type": "code",
   "execution_count": null,
   "id": "f06b7469-1d51-4329-9289-32746dee22be",
   "metadata": {},
   "outputs": [],
   "source": []
  },
  {
   "cell_type": "code",
   "execution_count": null,
   "id": "0aa3c33a-21c6-42ed-bcda-3af618ba92ac",
   "metadata": {},
   "outputs": [],
   "source": []
  },
  {
   "cell_type": "code",
   "execution_count": null,
   "id": "1e7958c1-92e7-4587-901b-443af8f4ce8b",
   "metadata": {},
   "outputs": [],
   "source": []
  },
  {
   "cell_type": "code",
   "execution_count": null,
   "id": "78902a7f-ec3a-4ac0-a642-c22fbd2fcc1c",
   "metadata": {},
   "outputs": [],
   "source": []
  },
  {
   "cell_type": "code",
   "execution_count": null,
   "id": "434097ee-3136-4919-8ba8-771f8236f797",
   "metadata": {},
   "outputs": [],
   "source": []
  },
  {
   "cell_type": "code",
   "execution_count": null,
   "id": "71d0f91a-3575-4e07-b96c-39b120173db0",
   "metadata": {},
   "outputs": [],
   "source": []
  },
  {
   "cell_type": "code",
   "execution_count": null,
   "id": "b4b45d24-bc92-48f4-8bfb-029727d35c61",
   "metadata": {},
   "outputs": [],
   "source": []
  },
  {
   "cell_type": "code",
   "execution_count": null,
   "id": "0c2989d9-4031-45bc-9572-eeb0530c80d5",
   "metadata": {},
   "outputs": [],
   "source": []
  },
  {
   "cell_type": "code",
   "execution_count": null,
   "id": "d3cb1c18-28d9-4025-a883-390a906854f7",
   "metadata": {},
   "outputs": [],
   "source": []
  },
  {
   "cell_type": "code",
   "execution_count": null,
   "id": "f0a2549a-1cc5-4aba-8086-7450661f4841",
   "metadata": {},
   "outputs": [],
   "source": []
  },
  {
   "cell_type": "code",
   "execution_count": null,
   "id": "5806e327-af07-48d3-8c85-722a5345eb79",
   "metadata": {},
   "outputs": [],
   "source": []
  },
  {
   "cell_type": "code",
   "execution_count": null,
   "id": "84d49b99-5640-4bbf-86df-3a7db69c5813",
   "metadata": {},
   "outputs": [],
   "source": []
  },
  {
   "cell_type": "code",
   "execution_count": null,
   "id": "55b567ea-7149-4fe2-976f-780418f78879",
   "metadata": {},
   "outputs": [],
   "source": []
  },
  {
   "cell_type": "code",
   "execution_count": null,
   "id": "351b262b-b5b1-4562-90a1-fb005269c86c",
   "metadata": {},
   "outputs": [],
   "source": []
  },
  {
   "cell_type": "code",
   "execution_count": null,
   "id": "aaea87e2-65f8-480e-beca-0d74e8834348",
   "metadata": {},
   "outputs": [],
   "source": []
  },
  {
   "cell_type": "code",
   "execution_count": null,
   "id": "fb026e03-244e-474d-b0e5-aeaa3514572f",
   "metadata": {},
   "outputs": [],
   "source": []
  },
  {
   "cell_type": "code",
   "execution_count": null,
   "id": "4af7bf4f-ca9a-495f-adc1-293aa713247a",
   "metadata": {},
   "outputs": [],
   "source": []
  },
  {
   "cell_type": "code",
   "execution_count": null,
   "id": "50b51fda-19e3-4fa7-ab1d-4e9137ba14d6",
   "metadata": {},
   "outputs": [],
   "source": []
  },
  {
   "cell_type": "code",
   "execution_count": null,
   "id": "9a9ce3cd-1499-4143-8377-fb2d8c20d9d7",
   "metadata": {},
   "outputs": [],
   "source": []
  },
  {
   "cell_type": "code",
   "execution_count": null,
   "id": "46520b01-7c8e-4bf6-83e6-89d52613065a",
   "metadata": {},
   "outputs": [],
   "source": []
  },
  {
   "cell_type": "code",
   "execution_count": null,
   "id": "efc4f722-e2d9-4cba-aa5d-cbb0bbb36c5a",
   "metadata": {},
   "outputs": [],
   "source": []
  }
 ],
 "metadata": {
  "kernelspec": {
   "display_name": "Python 3 (ipykernel)",
   "language": "python",
   "name": "python3"
  },
  "language_info": {
   "codemirror_mode": {
    "name": "ipython",
    "version": 3
   },
   "file_extension": ".py",
   "mimetype": "text/x-python",
   "name": "python",
   "nbconvert_exporter": "python",
   "pygments_lexer": "ipython3",
   "version": "3.12.3"
  }
 },
 "nbformat": 4,
 "nbformat_minor": 5
}
