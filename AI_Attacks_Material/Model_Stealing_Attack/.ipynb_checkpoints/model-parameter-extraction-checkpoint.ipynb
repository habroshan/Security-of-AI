{
 "cells": [
  {
   "cell_type": "markdown",
   "id": "b685c4f1-a13a-42f4-842e-d4b0c361decf",
   "metadata": {},
   "source": [
    "# Model Parameter Extraction Attack\n",
    "\n",
    " This notebook demonstrates how to perform a model parameter extraction attack against a machine learning model available through an API. Unlike basic model stealing that just replicates functionality, parameter extraction attempts to recover the actual parameters and structure of the target model.\n",
    "### Introduction\n",
    "Model parameter extraction is a more advanced form of model stealing where an attacker tries to recover the internal parameters (weights and biases) of a target model by observing its inputs and outputs. This type of attack can be particularly concerning for proprietary models as it may reveal intellectual property and implementation details.\n",
    "Background and Threat Model\n",
    "In this scenario, we assume the following threat model:\n",
    "\n",
    "<b>Target Model:</b> A neural network deployed behind an API that accepts input images and returns classification probabilities.\n",
    "\n",
    "<b>Attacker's Knowledge:</b> Black-box access (can only query the API and observe outputs).\n",
    "\n",
    "<b>Attacker's Goal:</b> Extract model parameters that closely match the target model's internal architecture.\n",
    "\n",
    "The attack works by systematically querying the target model, training a surrogate model on the observed input-output pairs, and optimizing the surrogate to mimic the target's behavior as closely as possible."
   ]
  },
  {
   "cell_type": "markdown",
   "id": "5af5730e-d416-46d0-8c70-53d0def22272",
   "metadata": {},
   "source": [
    "## 0. Importing Libraries "
   ]
  },
  {
   "cell_type": "code",
   "execution_count": 2,
   "id": "d4c7be3d-4ed8-434a-a8d3-99104c612070",
   "metadata": {},
   "outputs": [
    {
     "name": "stderr",
     "output_type": "stream",
     "text": [
      "2025-02-25 01:19:41.246163: I tensorflow/core/util/port.cc:153] oneDNN custom operations are on. You may see slightly different numerical results due to floating-point round-off errors from different computation orders. To turn them off, set the environment variable `TF_ENABLE_ONEDNN_OPTS=0`.\n",
      "2025-02-25 01:19:41.468002: E external/local_xla/xla/stream_executor/cuda/cuda_fft.cc:477] Unable to register cuFFT factory: Attempting to register factory for plugin cuFFT when one has already been registered\n",
      "WARNING: All log messages before absl::InitializeLog() is called are written to STDERR\n",
      "E0000 00:00:1740446381.557343  157165 cuda_dnn.cc:8310] Unable to register cuDNN factory: Attempting to register factory for plugin cuDNN when one has already been registered\n",
      "E0000 00:00:1740446381.567502  157165 cuda_blas.cc:1418] Unable to register cuBLAS factory: Attempting to register factory for plugin cuBLAS when one has already been registered\n",
      "2025-02-25 01:19:41.607198: I tensorflow/core/platform/cpu_feature_guard.cc:210] This TensorFlow binary is optimized to use available CPU instructions in performance-critical operations.\n",
      "To enable the following instructions: AVX2 AVX_VNNI FMA, in other operations, rebuild TensorFlow with the appropriate compiler flags.\n"
     ]
    }
   ],
   "source": [
    "import tensorflow as tf\n",
    "import numpy as np\n",
    "import requests\n",
    "import matplotlib.pyplot as plt\n",
    "from tqdm.notebook import tqdm\n",
    "\n",
    "# Configure warnings\n",
    "import warnings\n",
    "warnings.filterwarnings('ignore')"
   ]
  },
  {
   "cell_type": "markdown",
   "id": "1e92e735-a4f2-4751-8743-22399baf033b",
   "metadata": {},
   "source": [
    "## 1. Setting Up the Attack Framework\n",
    "We create a ServerModelExtractionAttack class that handles querying the target model and setting up our extraction architecture:"
   ]
  },
  {
   "cell_type": "code",
   "execution_count": 3,
   "id": "17d2b7a6-6d1e-48cf-961d-7873b7dbdb8d",
   "metadata": {},
   "outputs": [],
   "source": [
    "class ServerModelExtractionAttack:\n",
    "    def __init__(self, server_url=\"http://localhost:5000/predict\", input_shape=(28, 28, 1), num_classes=10):\n",
    "        self.server_url = server_url\n",
    "        self.input_shape = input_shape\n",
    "        self.num_classes = num_classes\n",
    "        self.extraction_model = None\n",
    "        self.layer_weights = []\n"
   ]
  },
  {
   "cell_type": "code",
   "execution_count": 4,
   "id": "e5028be8-8b0c-4b9c-b08a-385786579f39",
   "metadata": {},
   "outputs": [],
   "source": [
    "def query_server(self, image):\n",
    "    \"\"\"Query the server with an image\"\"\"\n",
    "    try:\n",
    "        response = requests.post(\n",
    "            self.server_url,\n",
    "            json={'image': image.reshape(28, 28).tolist()}\n",
    "        )\n",
    "        if response.status_code == 200:\n",
    "            return np.array(response.json()['full_probabilities'])\n",
    "        else:\n",
    "            print(f\"Server error: {response.status_code}\")\n",
    "            return None\n",
    "    except Exception as e:\n",
    "        print(f\"Error querying server: {e}\")\n",
    "        return None\n"
   ]
  },
  {
   "cell_type": "markdown",
   "id": "c9521c9b-60e9-4de8-8d25-5c44ffcf559b",
   "metadata": {},
   "source": [
    "## 2. Creating the Surrogate Model Architecture\n",
    "The key to successful parameter extraction is creating a surrogate model that matches the target's architecture:"
   ]
  },
  {
   "cell_type": "code",
   "execution_count": 5,
   "id": "95dbeb6a-9ec7-4921-9648-8b5bc01f1a46",
   "metadata": {},
   "outputs": [],
   "source": [
    "def create_extraction_model(self):\n",
    "    \"\"\"Create model architecture for extraction\"\"\"\n",
    "    model = tf.keras.Sequential([\n",
    "        tf.keras.layers.Conv2D(32, (3, 3), activation='relu', input_shape=self.input_shape),\n",
    "        tf.keras.layers.MaxPooling2D((2, 2)),\n",
    "        tf.keras.layers.Conv2D(64, (3, 3), activation='relu'),\n",
    "        tf.keras.layers.MaxPooling2D((2, 2)),\n",
    "        tf.keras.layers.Conv2D(64, (3, 3), activation='relu'),\n",
    "        tf.keras.layers.Flatten(),\n",
    "        tf.keras.layers.Dense(64, activation='relu'),\n",
    "        tf.keras.layers.Dense(self.num_classes, activation='softmax')\n",
    "    ])\n",
    "\n",
    "    model.compile(\n",
    "        optimizer='adam',\n",
    "        loss='categorical_crossentropy',\n",
    "        metrics=['accuracy']\n",
    "    )\n",
    "    self.extraction_model = model\n",
    "    return model\n"
   ]
  },
  {
   "cell_type": "markdown",
   "id": "10ec076b-ecd3-4060-832d-d22f042cb68a",
   "metadata": {},
   "source": [
    "### 3. Collecting Training Data from the Target Model\n",
    "To extract parameters, we need to gather the model's behavior on various inputs:"
   ]
  },
  {
   "cell_type": "code",
   "execution_count": 6,
   "id": "41e6206b-8429-4f4f-acaf-6b02f5edc404",
   "metadata": {},
   "outputs": [],
   "source": [
    "def collect_server_behavior(self, x_train, batch_size=100):\n",
    "    \"\"\"Collect server predictions for training data\"\"\"\n",
    "    print(\"Collecting server predictions...\")\n",
    "    server_predictions = []\n",
    "    \n",
    "    for i in tqdm(range(0, len(x_train), batch_size)):\n",
    "        batch = x_train[i:i + batch_size]\n",
    "        batch_predictions = []\n",
    "        \n",
    "        for image in batch:\n",
    "            pred = self.query_server(image)\n",
    "            if pred is not None:\n",
    "                batch_predictions.append(pred)\n",
    "                \n",
    "        server_predictions.extend(batch_predictions)\n",
    "        \n",
    "    return np.array(server_predictions)\n"
   ]
  },
  {
   "cell_type": "markdown",
   "id": "2f4250f8-12db-4018-bb62-8143958434e2",
   "metadata": {},
   "source": [
    "### 4. Parameter Extraction Process\n",
    "The actual extraction is performed by training our surrogate model to mimic the target model's outputs:"
   ]
  },
  {
   "cell_type": "code",
   "execution_count": 7,
   "id": "32fb7b90-49a0-405d-90ca-5bf7cc7b3225",
   "metadata": {},
   "outputs": [],
   "source": [
    "def extract_parameters(self, x_train, epochs=10, batch_size=32):\n",
    "    \"\"\"Extract model parameters through training\"\"\"\n",
    "    if self.extraction_model is None:\n",
    "        self.create_extraction_model()\n",
    "        \n",
    "    print(\"Getting server predictions for training...\")\n",
    "    server_predictions = self.collect_server_behavior(x_train[:1000])\n",
    "    \n",
    "    print(\"\\nTraining extraction model...\")\n",
    "    history = self.extraction_model.fit(\n",
    "        x_train[:1000],\n",
    "        server_predictions,\n",
    "        epochs=epochs,\n",
    "        batch_size=batch_size,\n",
    "        validation_split=0.2,\n",
    "        verbose=1\n",
    "    )\n",
    "    \n",
    "    # Store extracted weights\n",
    "    self.layer_weights = [layer.get_weights() for layer in self.extraction_model.layers]\n",
    "    \n",
    "    return history\n"
   ]
  },
  {
   "cell_type": "markdown",
   "id": "45ced7b3-3404-4fa1-978c-8c1ddaac3b34",
   "metadata": {},
   "source": [
    "### 5. Evaluate Extraction\n",
    "\n",
    "This method evaluates the success of a model extraction attack by comparing predictions from the target server model with predictions from our extracted model."
   ]
  },
  {
   "cell_type": "code",
   "execution_count": 8,
   "id": "6f0633df-647c-4464-8e0d-616b866de74b",
   "metadata": {},
   "outputs": [],
   "source": [
    "def evaluate_extraction(self, x_test, batch_size=32):\n",
    "    \"\"\"Evaluate extraction success\"\"\"\n",
    "    print(\"\\nEvaluating extraction...\")\n",
    "    \n",
    "    # Get predictions from server\n",
    "    server_predictions = self.collect_server_behavior(x_test[:100])\n",
    "    \n",
    "    # Get predictions from extraction model\n",
    "    extracted_predictions = self.extraction_model.predict(x_test[:100], batch_size=batch_size)\n",
    "    \n",
    "    # Calculate agreement rate\n",
    "    server_classes = np.argmax(server_predictions, axis=1)\n",
    "    extracted_classes = np.argmax(extracted_predictions, axis=1)\n",
    "    agreement_rate = np.mean(server_classes == extracted_classes)\n",
    "    \n",
    "    # Calculate prediction correlation\n",
    "    prediction_correlation = np.corrcoef(\n",
    "        server_predictions.flatten(),\n",
    "        extracted_predictions.flatten()\n",
    "    )[0, 1]\n",
    "    \n",
    "    return {\n",
    "        'agreement_rate': agreement_rate,\n",
    "        'prediction_correlation': prediction_correlation,\n",
    "        'example_comparisons': list(zip(server_classes[:5], extracted_classes[:5])),\n",
    "        'server_predictions': server_predictions,\n",
    "        'extracted_predictions': extracted_predictions\n",
    "    }\n"
   ]
  },
  {
   "cell_type": "markdown",
   "id": "d6c4634e-fa51-4e2d-9385-1328b712cbec",
   "metadata": {},
   "source": [
    "### 6. Visualize Extraction Performance\n",
    "\n",
    "This method generates visualizations to track the training progress of the model extraction attack, allowing analysts to understand how well the surrogate model is learning to mimic the target model's behavior.\n",
    "\n"
   ]
  },
  {
   "cell_type": "code",
   "execution_count": 9,
   "id": "6c9f4522-452a-4731-a7d1-fe62be8d4dc3",
   "metadata": {},
   "outputs": [],
   "source": [
    "def visualize_extraction(self, history):\n",
    "    \"\"\"Visualize extraction performance\"\"\"\n",
    "    plt.figure(figsize=(15, 5))\n",
    "    \n",
    "    # Plot loss\n",
    "    plt.subplot(1, 2, 1)\n",
    "    plt.plot(history.history['loss'], label='Training Loss')\n",
    "    plt.plot(history.history['val_loss'], label='Validation Loss')\n",
    "    plt.title('Model Extraction Loss')\n",
    "    plt.xlabel('Epoch')\n",
    "    plt.ylabel('Loss')\n",
    "    plt.legend()\n",
    "    \n",
    "    # Plot accuracy\n",
    "    plt.subplot(1, 2, 2)\n",
    "    plt.plot(history.history['accuracy'], label='Training Accuracy')\n",
    "    plt.plot(history.history['val_accuracy'], label='Validation Accuracy')\n",
    "    plt.title('Model Extraction Accuracy')\n",
    "    plt.xlabel('Epoch')\n",
    "    plt.ylabel('Accuracy')\n",
    "    plt.legend()\n",
    "    \n",
    "    plt.tight_layout()\n",
    "    plt.show()\n"
   ]
  },
  {
   "cell_type": "markdown",
   "id": "135ea1b9-d07f-4ea7-adec-4c1881886479",
   "metadata": {},
   "source": [
    "### 7. Visualize Prediction Comparisons\n",
    "\n",
    "This method creates a scatter plot to visually compare predictions between the target server model and the extracted model, providing an intuitive way to assess extraction quality.\n"
   ]
  },
  {
   "cell_type": "code",
   "execution_count": 10,
   "id": "02b71fde-5dac-4fa9-9a80-b414c40578c3",
   "metadata": {},
   "outputs": [],
   "source": [
    "def visualize_predictions(self, results):\n",
    "    \"\"\"Visualize prediction comparisons\"\"\"\n",
    "    server_preds = results['server_predictions']\n",
    "    extracted_preds = results['extracted_predictions']\n",
    "    \n",
    "    plt.figure(figsize=(10, 5))\n",
    "    plt.scatter(\n",
    "        server_preds.flatten(), \n",
    "        extracted_preds.flatten(), \n",
    "        alpha=0.1\n",
    "    )\n",
    "    plt.plot([0, 1], [0, 1], 'r--')\n",
    "    plt.xlabel('Server Predictions')\n",
    "    plt.ylabel('Extracted Model Predictions')\n",
    "    plt.title('Prediction Comparison')\n",
    "    plt.show()\n"
   ]
  },
  {
   "cell_type": "markdown",
   "id": "2e646b78-9a56-46f7-856f-c2214def7aea",
   "metadata": {},
   "source": [
    "### 8. Analyzing Extracted Parameters\n",
    "To understand how successful the extraction was, we analyze the parameters:"
   ]
  },
  {
   "cell_type": "code",
   "execution_count": 11,
   "id": "b11093d0-9a81-448d-9926-fbeaeac87086",
   "metadata": {},
   "outputs": [],
   "source": [
    "def analyze_extracted_parameters(self):\n",
    "    \"\"\"Analyze extracted model parameters\"\"\"\n",
    "    parameter_analysis = []\n",
    "    \n",
    "    for i, weights in enumerate(self.layer_weights):\n",
    "        if len(weights) > 0:  # Check if layer has weights\n",
    "            layer_stats = {\n",
    "                'layer_index': i,\n",
    "                'layer_type': self.extraction_model.layers[i].__class__.__name__,\n",
    "                'num_parameters': np.sum([w.size for w in weights]),\n",
    "                'weight_stats': {\n",
    "                    'mean': float(np.mean([np.mean(w) for w in weights])),\n",
    "                    'std': float(np.std([np.std(w) for w in weights])),\n",
    "                    'min': float(np.min([np.min(w) for w in weights])),\n",
    "                    'max': float(np.max([np.max(w) for w in weights]))\n",
    "                }\n",
    "            }\n",
    "            parameter_analysis.append(layer_stats)\n",
    "    \n",
    "    return parameter_analysis\n"
   ]
  },
  {
   "cell_type": "code",
   "execution_count": 12,
   "id": "b3b2d204-e494-4ef2-9e23-bc5fb68b7c40",
   "metadata": {},
   "outputs": [],
   "source": [
    "ServerModelExtractionAttack.query_server = query_server\n",
    "ServerModelExtractionAttack.create_extraction_model = create_extraction_model\n",
    "ServerModelExtractionAttack.collect_server_behavior = collect_server_behavior\n",
    "ServerModelExtractionAttack.extract_parameters = extract_parameters\n",
    "ServerModelExtractionAttack.evaluate_extraction = evaluate_extraction\n",
    "ServerModelExtractionAttack.visualize_extraction = visualize_extraction\n",
    "ServerModelExtractionAttack.visualize_predictions = visualize_predictions\n",
    "ServerModelExtractionAttack.analyze_extracted_parameters = analyze_extracted_parameters\n"
   ]
  },
  {
   "cell_type": "markdown",
   "id": "c45135c6-7ac5-4184-8670-62ba071f0924",
   "metadata": {},
   "source": [
    "### 9. Loading Dataset"
   ]
  },
  {
   "cell_type": "code",
   "execution_count": 13,
   "id": "b20ce451-59ca-4b20-9745-e34be5a29ec8",
   "metadata": {},
   "outputs": [
    {
     "name": "stdout",
     "output_type": "stream",
     "text": [
      "Loading MNIST dataset...\n",
      "Data shapes:\n",
      "x_train: (60000, 28, 28, 1)\n",
      "x_test: (10000, 28, 28, 1)\n"
     ]
    }
   ],
   "source": [
    "# Load MNIST data\n",
    "print(\"Loading MNIST dataset...\")\n",
    "(x_train, y_train), (x_test, y_test) = tf.keras.datasets.mnist.load_data()\n",
    "\n",
    "# Normalize images\n",
    "x_train = x_train.astype('float32') / 255.0\n",
    "x_test = x_test.astype('float32') / 255.0\n",
    "\n",
    "# Reshape images\n",
    "x_train = x_train.reshape(-1, 28, 28, 1)\n",
    "x_test = x_test.reshape(-1, 28, 28, 1)\n",
    "\n",
    "print(\"Data shapes:\")\n",
    "print(f\"x_train: {x_train.shape}\")\n",
    "print(f\"x_test: {x_test.shape}\")"
   ]
  },
  {
   "cell_type": "code",
   "execution_count": 14,
   "id": "29fbd0e1-bb0b-4214-bd12-446d11edacaf",
   "metadata": {},
   "outputs": [],
   "source": [
    "# Initialize attack\n",
    "attack = ServerModelExtractionAttack()\n"
   ]
  },
  {
   "cell_type": "markdown",
   "id": "39723b35-9f1e-4e2c-bb7f-3e0994a3b583",
   "metadata": {},
   "source": [
    "### 10. Executing Parameter Extraction Attack\n",
    "\n",
    "This code snippet initiates the core functionality of the model extraction attack:\n"
   ]
  },
  {
   "cell_type": "code",
   "execution_count": 20,
   "id": "7b394ddf-aea7-48cd-be52-e6a136ade953",
   "metadata": {},
   "outputs": [
    {
     "name": "stdout",
     "output_type": "stream",
     "text": [
      "Starting parameter extraction attack...\n",
      "Getting server predictions for training...\n",
      "Collecting server predictions...\n"
     ]
    },
    {
     "data": {
      "application/vnd.jupyter.widget-view+json": {
       "model_id": "088b1b550f6d45de9353a39f1e5e5bf8",
       "version_major": 2,
       "version_minor": 0
      },
      "text/plain": [
       "  0%|          | 0/10 [00:00<?, ?it/s]"
      ]
     },
     "metadata": {},
     "output_type": "display_data"
    },
    {
     "name": "stdout",
     "output_type": "stream",
     "text": [
      "\n",
      "Training extraction model...\n",
      "Epoch 1/10\n",
      "\u001b[1m25/25\u001b[0m \u001b[32m━━━━━━━━━━━━━━━━━━━━\u001b[0m\u001b[37m\u001b[0m \u001b[1m1s\u001b[0m 27ms/step - accuracy: 0.9968 - loss: 0.0397 - val_accuracy: 0.9250 - val_loss: 0.3197\n",
      "Epoch 2/10\n",
      "\u001b[1m25/25\u001b[0m \u001b[32m━━━━━━━━━━━━━━━━━━━━\u001b[0m\u001b[37m\u001b[0m \u001b[1m1s\u001b[0m 20ms/step - accuracy: 0.9980 - loss: 0.0322 - val_accuracy: 0.9350 - val_loss: 0.2739\n",
      "Epoch 3/10\n",
      "\u001b[1m25/25\u001b[0m \u001b[32m━━━━━━━━━━━━━━━━━━━━\u001b[0m\u001b[37m\u001b[0m \u001b[1m1s\u001b[0m 21ms/step - accuracy: 0.9977 - loss: 0.0273 - val_accuracy: 0.9450 - val_loss: 0.2679\n",
      "Epoch 4/10\n",
      "\u001b[1m25/25\u001b[0m \u001b[32m━━━━━━━━━━━━━━━━━━━━\u001b[0m\u001b[37m\u001b[0m \u001b[1m1s\u001b[0m 31ms/step - accuracy: 0.9991 - loss: 0.0248 - val_accuracy: 0.9400 - val_loss: 0.2829\n",
      "Epoch 5/10\n",
      "\u001b[1m25/25\u001b[0m \u001b[32m━━━━━━━━━━━━━━━━━━━━\u001b[0m\u001b[37m\u001b[0m \u001b[1m1s\u001b[0m 20ms/step - accuracy: 0.9967 - loss: 0.0231 - val_accuracy: 0.9400 - val_loss: 0.2498\n",
      "Epoch 6/10\n",
      "\u001b[1m25/25\u001b[0m \u001b[32m━━━━━━━━━━━━━━━━━━━━\u001b[0m\u001b[37m\u001b[0m \u001b[1m0s\u001b[0m 18ms/step - accuracy: 0.9985 - loss: 0.0214 - val_accuracy: 0.9350 - val_loss: 0.2647\n",
      "Epoch 7/10\n",
      "\u001b[1m25/25\u001b[0m \u001b[32m━━━━━━━━━━━━━━━━━━━━\u001b[0m\u001b[37m\u001b[0m \u001b[1m1s\u001b[0m 25ms/step - accuracy: 0.9954 - loss: 0.0233 - val_accuracy: 0.9400 - val_loss: 0.2583\n",
      "Epoch 8/10\n",
      "\u001b[1m25/25\u001b[0m \u001b[32m━━━━━━━━━━━━━━━━━━━━\u001b[0m\u001b[37m\u001b[0m \u001b[1m1s\u001b[0m 29ms/step - accuracy: 1.0000 - loss: 0.0160 - val_accuracy: 0.9400 - val_loss: 0.2360\n",
      "Epoch 9/10\n",
      "\u001b[1m25/25\u001b[0m \u001b[32m━━━━━━━━━━━━━━━━━━━━\u001b[0m\u001b[37m\u001b[0m \u001b[1m1s\u001b[0m 28ms/step - accuracy: 1.0000 - loss: 0.0125 - val_accuracy: 0.9400 - val_loss: 0.2617\n",
      "Epoch 10/10\n",
      "\u001b[1m25/25\u001b[0m \u001b[32m━━━━━━━━━━━━━━━━━━━━\u001b[0m\u001b[37m\u001b[0m \u001b[1m1s\u001b[0m 22ms/step - accuracy: 0.9990 - loss: 0.0092 - val_accuracy: 0.9350 - val_loss: 0.2692\n"
     ]
    }
   ],
   "source": [
    "\n",
    "# Extract parameters\n",
    "print(\"Starting parameter extraction attack...\")\n",
    "history = attack.extract_parameters(x_train)\n",
    "\n",
    "\n"
   ]
  },
  {
   "cell_type": "markdown",
   "id": "a725896b-2858-4289-b983-f8d504b139f4",
   "metadata": {},
   "source": [
    "### 11. Evaluating Performace of Extracted Model"
   ]
  },
  {
   "cell_type": "code",
   "execution_count": 21,
   "id": "1574d947-2f3b-4450-99cf-7a40f2f789be",
   "metadata": {},
   "outputs": [
    {
     "name": "stdout",
     "output_type": "stream",
     "text": [
      "\n",
      "Evaluating extraction...\n",
      "Collecting server predictions...\n"
     ]
    },
    {
     "data": {
      "application/vnd.jupyter.widget-view+json": {
       "model_id": "df7eacf87a0f4a208f92bd98aa7aef9c",
       "version_major": 2,
       "version_minor": 0
      },
      "text/plain": [
       "  0%|          | 0/1 [00:00<?, ?it/s]"
      ]
     },
     "metadata": {},
     "output_type": "display_data"
    },
    {
     "name": "stdout",
     "output_type": "stream",
     "text": [
      "\u001b[1m4/4\u001b[0m \u001b[32m━━━━━━━━━━━━━━━━━━━━\u001b[0m\u001b[37m\u001b[0m \u001b[1m0s\u001b[0m 30ms/step\n",
      "\n",
      "Extraction Results:\n",
      "Agreement Rate: 0.9600\n",
      "Prediction Correlation: 0.9590\n",
      "\n",
      "Example Predictions (Server vs Extracted):\n",
      "Server: 7, Extracted: 7\n",
      "Server: 2, Extracted: 2\n",
      "Server: 1, Extracted: 1\n",
      "Server: 0, Extracted: 0\n",
      "Server: 4, Extracted: 4\n"
     ]
    }
   ],
   "source": [
    "# Evaluate extraction\n",
    "results = attack.evaluate_extraction(x_test)\n",
    "\n",
    "# Print results\n",
    "print(\"\\nExtraction Results:\")\n",
    "print(f\"Agreement Rate: {results['agreement_rate']:.4f}\")\n",
    "print(f\"Prediction Correlation: {results['prediction_correlation']:.4f}\")\n",
    "print(\"\\nExample Predictions (Server vs Extracted):\")\n",
    "for server, extracted in results['example_comparisons']:\n",
    "    print(f\"Server: {server}, Extracted: {extracted}\")\n"
   ]
  },
  {
   "cell_type": "code",
   "execution_count": 16,
   "id": "79aebef7-a029-4ad4-834a-a94cf26c5422",
   "metadata": {},
   "outputs": [
    {
     "name": "stdout",
     "output_type": "stream",
     "text": [
      "\n",
      "Analyzing extracted parameters...\n",
      "\n",
      "Layer 0 (Conv2D):\n",
      "Number of parameters: 320\n",
      "Weight statistics:\n",
      "  mean: 0.020712\n",
      "  std: 0.044334\n",
      "  min: -0.196752\n",
      "  max: 0.211459\n",
      "\n",
      "Layer 2 (Conv2D):\n",
      "Number of parameters: 18496\n",
      "Weight statistics:\n",
      "  mean: 0.004770\n",
      "  std: 0.022127\n",
      "  min: -0.213806\n",
      "  max: 0.198655\n",
      "\n",
      "Layer 4 (Conv2D):\n",
      "Number of parameters: 36928\n",
      "Weight statistics:\n",
      "  mean: 0.003532\n",
      "  std: 0.019830\n",
      "  min: -0.162237\n",
      "  max: 0.161691\n",
      "\n",
      "Layer 6 (Dense):\n",
      "Number of parameters: 36928\n",
      "Weight statistics:\n",
      "  mean: 0.001049\n",
      "  std: 0.025416\n",
      "  min: -0.145856\n",
      "  max: 0.175741\n",
      "\n",
      "Layer 7 (Dense):\n",
      "Number of parameters: 650\n",
      "Weight statistics:\n",
      "  mean: -0.003039\n",
      "  std: 0.080190\n",
      "  min: -0.356137\n",
      "  max: 0.314838\n"
     ]
    }
   ],
   "source": [
    "# Analyze extracted parameters\n",
    "print(\"\\nAnalyzing extracted parameters...\")\n",
    "param_analysis = attack.analyze_extracted_parameters()\n",
    "for layer in param_analysis:\n",
    "    print(f\"\\nLayer {layer['layer_index']} ({layer['layer_type']}):\")\n",
    "    print(f\"Number of parameters: {layer['num_parameters']}\")\n",
    "    print(\"Weight statistics:\")\n",
    "    for stat, value in layer['weight_stats'].items():\n",
    "        print(f\"  {stat}: {value:.6f}\")"
   ]
  },
  {
   "cell_type": "code",
   "execution_count": 17,
   "id": "793d99e1-931c-44a9-8c18-a15ed599fdd9",
   "metadata": {},
   "outputs": [
    {
     "data": {
      "image/png": "[encoded data removed]",
      "text/plain": [
       "<Figure size 1500x500 with 2 Axes>"
      ]
     },
     "metadata": {},
     "output_type": "display_data"
    },
    {
     "data": {
      "image/png": "[encoded data removed]",
      "text/plain": [
       "<Figure size 1000x500 with 1 Axes>"
      ]
     },
     "metadata": {},
     "output_type": "display_data"
    }
   ],
   "source": [
    "# Visualize extraction performance\n",
    "attack.visualize_extraction(history)\n",
    "\n",
    "# Visualize prediction comparison\n",
    "attack.visualize_predictions(results)"
   ]
  },
  {
   "cell_type": "code",
   "execution_count": 18,
   "id": "141aa048-ac87-4148-872f-f446a9e8a948",
   "metadata": {},
   "outputs": [
    {
     "name": "stdout",
     "output_type": "stream",
     "text": [
      "Extracted model saved as 'extracted_model.keras'\n"
     ]
    }
   ],
   "source": [
    "# Save the extracted model\n",
    "attack.extraction_model.save('models/extracted_model.keras')\n",
    "print(\"Extracted model saved as 'extracted_model.keras'\")"
   ]
  },
  {
   "cell_type": "code",
   "execution_count": null,
   "id": "d5ff7899-53d7-4d5a-9ed4-12c088d78a46",
   "metadata": {},
   "outputs": [],
   "source": []
  },
  {
   "cell_type": "code",
   "execution_count": 22,
   "id": "3018abcb-b9a0-46bb-b38b-638bb8c3057a",
   "metadata": {},
   "outputs": [],
   "source": [
    "def load_extracted_model(self, model_path='models/extracted_model.keras'):\n",
    "    \"\"\"Load the extracted model from disk.\"\"\"\n",
    "    print(\"Loading extracted model...\")\n",
    "    return tf.keras.models.load_model(model_path)\n"
   ]
  },
  {
   "cell_type": "code",
   "execution_count": 23,
   "id": "dfd049d0-2bdb-4406-840a-9a2b03e69ecd",
   "metadata": {},
   "outputs": [],
   "source": [
    "def load_test_data(self, test_size=100):\n",
    "    \"\"\"Load and preprocess MNIST test data.\"\"\"\n",
    "    (_, _), (x_test, y_test) = tf.keras.datasets.mnist.load_data()\n",
    "    x_test = x_test.astype('float32') / 255.0\n",
    "    x_test = x_test.reshape(-1, 28, 28, 1)\n",
    "    \n",
    "    test_indices = np.random.choice(len(x_test), test_size, replace=False)\n",
    "    return x_test[test_indices], y_test[test_indices]\n"
   ]
  },
  {
   "cell_type": "code",
   "execution_count": 24,
   "id": "c5989f76-03bd-4a67-a859-6fc30f91fc89",
   "metadata": {},
   "outputs": [],
   "source": [
    "def get_server_predictions(self, test_images):\n",
    "    \"\"\"Query the server for predictions on test images.\"\"\"\n",
    "    server_preds = []\n",
    "    print(\"Getting server predictions...\")\n",
    "    \n",
    "    for image in tqdm(test_images):\n",
    "        response = requests.post(\n",
    "            self.server_url, \n",
    "            json={'image': image.reshape(28, 28).tolist()}\n",
    "        )\n",
    "        if response.status_code == 200:\n",
    "            server_preds.append(response.json()['prediction'])\n",
    "    \n",
    "    return np.array(server_preds)\n"
   ]
  },
  {
   "cell_type": "code",
   "execution_count": 25,
   "id": "1af83e90-ad5e-4b8b-bb41-c41acb3b48da",
   "metadata": {},
   "outputs": [],
   "source": [
    "def get_extracted_predictions(self, extracted_model, test_images):\n",
    "    \"\"\"Get predictions from the extracted model.\"\"\"\n",
    "    print(\"\\nGetting extracted model predictions...\")\n",
    "    extracted_preds = extracted_model.predict(test_images)\n",
    "    return np.argmax(extracted_preds, axis=1)\n"
   ]
  },
  {
   "cell_type": "code",
   "execution_count": 26,
   "id": "da652665-3739-4f78-b4c1-c89fb4f9c01d",
   "metadata": {},
   "outputs": [],
   "source": [
    "def calculate_metrics(self, server_preds, extracted_preds, true_labels):\n",
    "    \"\"\"Calculate accuracy and agreement metrics.\"\"\"\n",
    "    server_accuracy = np.mean(server_preds == true_labels)\n",
    "    extracted_accuracy = np.mean(extracted_preds == true_labels)\n",
    "    agreement = np.mean(server_preds == extracted_preds)\n",
    "\n",
    "    print(\"\\nAccuracy Results:\")\n",
    "    print(f\"Server Model Accuracy: {server_accuracy:.4f}\")\n",
    "    print(f\"Extracted Model Accuracy: {extracted_accuracy:.4f}\")\n",
    "    print(f\"Model Agreement Rate: {agreement:.4f}\")\n",
    "    \n",
    "    return {\n",
    "        'server_accuracy': server_accuracy,\n",
    "        'extracted_accuracy': extracted_accuracy,\n",
    "        'agreement_rate': agreement\n",
    "    }\n"
   ]
  },
  {
   "cell_type": "code",
   "execution_count": 27,
   "id": "ee6cc040-db79-4b54-803d-0b0c290cd2b5",
   "metadata": {},
   "outputs": [],
   "source": [
    "def print_example_predictions(self, true_labels, server_preds, extracted_preds):\n",
    "    \"\"\"Print the first few example predictions.\"\"\"\n",
    "    print(\"\\nExample Predictions (first 10 images):\")\n",
    "    print(\"True Label | Server Prediction | Extracted Prediction\")\n",
    "    print(\"-\" * 50)\n",
    "    \n",
    "    for i in range(10):\n",
    "        print(f\"{true_labels[i]:^10d} | {server_preds[i]:^16d} | {extracted_preds[i]:^20d}\")\n"
   ]
  },
  {
   "cell_type": "code",
   "execution_count": 28,
   "id": "5fe3aedd-d9e1-44f1-abd5-89c71ce45142",
   "metadata": {},
   "outputs": [],
   "source": [
    "def visualize_predictions(self, test_images, true_labels, server_preds, extracted_preds):\n",
    "    \"\"\"Visualize example predictions with images.\"\"\"\n",
    "    plt.figure(figsize=(15, 4))\n",
    "    for i in range(5):\n",
    "        plt.subplot(1, 5, i+1)\n",
    "        plt.imshow(test_images[i].reshape(28, 28), cmap='gray')\n",
    "        plt.title(f'True: {true_labels[i]}\\nS: {server_preds[i]}\\nE: {extracted_preds[i]}')\n",
    "        plt.axis('off')\n",
    "    plt.tight_layout()\n",
    "    plt.show()\n"
   ]
  },
  {
   "cell_type": "code",
   "execution_count": 29,
   "id": "31f9e187-3cd6-4354-9e48-17514ee8b258",
   "metadata": {},
   "outputs": [],
   "source": [
    "def visualize_confusion_matrix(self, server_preds, extracted_preds):\n",
    "    \"\"\"Plot a confusion matrix comparing server and extracted predictions.\"\"\"\n",
    "    plt.figure(figsize=(8, 8))\n",
    "    confusion = np.zeros((10, 10))\n",
    "    \n",
    "    for s, e in zip(server_preds, extracted_preds):\n",
    "        confusion[s][e] += 1\n",
    "    \n",
    "    plt.imshow(confusion, cmap='Blues')\n",
    "    plt.colorbar()\n",
    "    plt.title('Confusion Matrix: Server vs Extracted Predictions')\n",
    "    plt.xlabel('Extracted Model Predictions')\n",
    "    plt.ylabel('Server Model Predictions')\n",
    "\n",
    "    for i in range(10):\n",
    "        for j in range(10):\n",
    "            plt.text(j, i, int(confusion[i][j]), ha='center', va='center')\n",
    "\n",
    "    plt.show()\n"
   ]
  },
  {
   "cell_type": "code",
   "execution_count": 30,
   "id": "5de50c4f-90b1-4334-b956-57a4a876959d",
   "metadata": {},
   "outputs": [],
   "source": [
    "def test_predictions(self):\n",
    "    \"\"\"Run the full testing process for the extracted model.\"\"\"\n",
    "    extracted_model = self.load_extracted_model()\n",
    "    test_images, test_labels = self.load_test_data()\n",
    "\n",
    "    server_preds = self.get_server_predictions(test_images)\n",
    "    extracted_preds = self.get_extracted_predictions(extracted_model, test_images)\n",
    "\n",
    "    metrics = self.calculate_metrics(server_preds, extracted_preds, test_labels)\n",
    "    \n",
    "    self.print_example_predictions(test_labels, server_preds, extracted_preds)\n",
    "    self.visualize_predictions(test_images, test_labels, server_preds, extracted_preds)\n",
    "    self.visualize_confusion_matrix(server_preds, extracted_preds)\n",
    "    \n",
    "    return {\n",
    "        **metrics,\n",
    "        'server_preds': server_preds,\n",
    "        'extracted_preds': extracted_preds,\n",
    "        'true_labels': test_labels\n",
    "    }\n"
   ]
  },
  {
   "cell_type": "code",
   "execution_count": 31,
   "id": "c4cbfb4f-9170-428b-9551-f261f36800f1",
   "metadata": {},
   "outputs": [],
   "source": [
    "ServerModelExtractionAttack.load_extracted_model = load_extracted_model\n",
    "ServerModelExtractionAttack.load_test_data = load_test_data\n",
    "ServerModelExtractionAttack.get_server_predictions = get_server_predictions\n",
    "ServerModelExtractionAttack.get_extracted_predictions = get_extracted_predictions\n",
    "ServerModelExtractionAttack.calculate_metrics = calculate_metrics\n",
    "ServerModelExtractionAttack.print_example_predictions = print_example_predictions\n",
    "ServerModelExtractionAttack.visualize_predictions = visualize_predictions\n",
    "ServerModelExtractionAttack.visualize_confusion_matrix = visualize_confusion_matrix\n",
    "ServerModelExtractionAttack.test_predictions = test_predictions\n"
   ]
  },
  {
   "cell_type": "code",
   "execution_count": 32,
   "id": "8d856ad3-cb3e-40e6-a264-c265bccea233",
   "metadata": {},
   "outputs": [
    {
     "name": "stdout",
     "output_type": "stream",
     "text": [
      "Loading extracted model...\n",
      "Getting server predictions...\n"
     ]
    },
    {
     "data": {
      "application/vnd.jupyter.widget-view+json": {
       "model_id": "7d1e8b6074ec44308aa6edf0928a3a07",
       "version_major": 2,
       "version_minor": 0
      },
      "text/plain": [
       "  0%|          | 0/100 [00:00<?, ?it/s]"
      ]
     },
     "metadata": {},
     "output_type": "display_data"
    },
    {
     "name": "stdout",
     "output_type": "stream",
     "text": [
      "\n",
      "Getting extracted model predictions...\n",
      "WARNING:tensorflow:5 out of the last 13 calls to <function TensorFlowTrainer.make_predict_function.<locals>.one_step_on_data_distributed at 0x7ddbe9b2f880> triggered tf.function retracing. Tracing is expensive and the excessive number of tracings could be due to (1) creating @tf.function repeatedly in a loop, (2) passing tensors with different shapes, (3) passing Python objects instead of tensors. For (1), please define your @tf.function outside of the loop. For (2), @tf.function has reduce_retracing=True option that can avoid unnecessary retracing. For (3), please refer to https://www.tensorflow.org/guide/function#controlling_retracing and https://www.tensorflow.org/api_docs/python/tf/function for  more details.\n",
      "\u001b[1m4/4\u001b[0m \u001b[32m━━━━━━━━━━━━━━━━━━━━\u001b[0m\u001b[37m\u001b[0m \u001b[1m0s\u001b[0m 50ms/step \n",
      "\n",
      "Accuracy Results:\n",
      "Server Model Accuracy: 0.9900\n",
      "Extracted Model Accuracy: 0.9500\n",
      "Model Agreement Rate: 0.9600\n",
      "\n",
      "Example Predictions (first 10 images):\n",
      "True Label | Server Prediction | Extracted Prediction\n",
      "--------------------------------------------------\n",
      "    9      |        9         |          9          \n",
      "    1      |        1         |          1          \n",
      "    7      |        7         |          7          \n",
      "    4      |        4         |          9          \n",
      "    8      |        8         |          8          \n",
      "    9      |        9         |          9          \n",
      "    0      |        0         |          0          \n",
      "    8      |        8         |          8          \n",
      "    6      |        6         |          6          \n",
      "    4      |        4         |          6          \n"
     ]
    },
    {
     "data": {
      "image/png": "[encoded data removed]",
      "text/plain": [
       "<Figure size 1500x400 with 5 Axes>"
      ]
     },
     "metadata": {},
     "output_type": "display_data"
    },
    {
     "data": {
      "image/png": "[encoded data removed]",
      "text/plain": [
       "<Figure size 800x800 with 2 Axes>"
      ]
     },
     "metadata": {},
     "output_type": "display_data"
    }
   ],
   "source": [
    "attack = ServerModelExtractionAttack()\n",
    "test_results = attack.test_predictions()\n"
   ]
  },
  {
   "cell_type": "code",
   "execution_count": null,
   "id": "90b355ef-7698-46f2-9c2e-df62608ed3b7",
   "metadata": {},
   "outputs": [],
   "source": []
  },
  {
   "cell_type": "code",
   "execution_count": null,
   "id": "78785496-b443-49cd-bf7d-159781adf420",
   "metadata": {},
   "outputs": [],
   "source": []
  },
  {
   "cell_type": "code",
   "execution_count": null,
   "id": "cd41635c-354e-4739-b1ba-7e434005618f",
   "metadata": {},
   "outputs": [],
   "source": []
  },
  {
   "cell_type": "code",
   "execution_count": null,
   "id": "91384309-078a-47ff-8cd7-78f2dd5cb83c",
   "metadata": {},
   "outputs": [],
   "source": []
  },
  {
   "cell_type": "code",
   "execution_count": null,
   "id": "8a3dc9a4-3a9a-43e6-a6cb-6e40f3a4be86",
   "metadata": {},
   "outputs": [],
   "source": []
  },
  {
   "cell_type": "code",
   "execution_count": null,
   "id": "6d19e5f2-059e-409f-9931-b5920d3385c3",
   "metadata": {},
   "outputs": [],
   "source": []
  },
  {
   "cell_type": "code",
   "execution_count": null,
   "id": "3e48911a-f12e-44b6-bc09-d25ace54cec6",
   "metadata": {},
   "outputs": [],
   "source": []
  },
  {
   "cell_type": "code",
   "execution_count": null,
   "id": "49f2e039-963e-4fe8-bebe-b1c240f39681",
   "metadata": {},
   "outputs": [],
   "source": []
  },
  {
   "cell_type": "code",
   "execution_count": null,
   "id": "038ed50f-cde5-4790-b67c-3f68e32e48de",
   "metadata": {},
   "outputs": [],
   "source": []
  },
  {
   "cell_type": "code",
   "execution_count": null,
   "id": "798f893b-2754-4f13-9d9d-4e915b67be7a",
   "metadata": {},
   "outputs": [],
   "source": []
  },
  {
   "cell_type": "code",
   "execution_count": null,
   "id": "97e52e64-d27a-4585-8e06-a91990df3b19",
   "metadata": {},
   "outputs": [],
   "source": []
  },
  {
   "cell_type": "code",
   "execution_count": null,
   "id": "eae65421-b803-4663-b5d5-53b5046fdee1",
   "metadata": {},
   "outputs": [],
   "source": []
  },
  {
   "cell_type": "code",
   "execution_count": null,
   "id": "7982315a-2bfe-4b0e-b4b4-b2ee8f8d1a5a",
   "metadata": {},
   "outputs": [],
   "source": []
  },
  {
   "cell_type": "code",
   "execution_count": null,
   "id": "36aa6f78-8435-4e0d-9772-b90a06be30d8",
   "metadata": {},
   "outputs": [],
   "source": []
  },
  {
   "cell_type": "code",
   "execution_count": null,
   "id": "15f40d66-46f3-4802-b94b-1c60134dc347",
   "metadata": {},
   "outputs": [],
   "source": []
  },
  {
   "cell_type": "code",
   "execution_count": null,
   "id": "c21defea-2833-4a20-8598-8631b8a08edc",
   "metadata": {},
   "outputs": [],
   "source": []
  },
  {
   "cell_type": "code",
   "execution_count": null,
   "id": "320a609a-0bcf-4bcd-a181-3c2d2a381818",
   "metadata": {},
   "outputs": [],
   "source": []
  }
 ],
 "metadata": {
  "kernelspec": {
   "display_name": "Python 3 (ipykernel)",
   "language": "python",
   "name": "python3"
  },
  "language_info": {
   "codemirror_mode": {
    "name": "ipython",
    "version": 3
   },
   "file_extension": ".py",
   "mimetype": "text/x-python",
   "name": "python",
   "nbconvert_exporter": "python",
   "pygments_lexer": "ipython3",
   "version": "3.12.3"
  }
 },
 "nbformat": 4,
 "nbformat_minor": 5
}
