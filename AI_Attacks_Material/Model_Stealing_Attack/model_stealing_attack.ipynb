{
 "cells": [
  {
   "cell_type": "markdown",
   "id": "91a2945c-35b8-4c8d-b01c-782c49e05bc3",
   "metadata": {},
   "source": [
    "# Model Stealing Attack\n",
    "\n"
   ]
  },
  {
   "cell_type": "markdown",
   "id": "29a31a49-fd32-49c4-8606-dc415c574a5e",
   "metadata": {},
   "source": [
    "### Introduction\n",
    "This notebook demonstrates how to perform a model stealing attack against a trained machine learning model. Model stealing attacks attempt to create a \"surrogate\" model that replicates the behavior of a target model by observing its inputs and outputs. This type of attack is particularly relevant when the target model is only accessible through an API.\n",
    "\n",
    "### Background\n",
    "Model stealing attacks are a type of security threat where an adversary tries to duplicate the functionality of a machine learning model they only have black-box access to. The attacker queries the target model with carefully chosen inputs and uses the responses to train their own copycat model.\n",
    "The key components are:\n",
    "\n",
    "<b>Target Model</b>: The victim model we want to steal (accessed via API)\n",
    "\n",
    "<b>Query Strategy</b>: How we generate inputs to extract knowledge from the target\n",
    "\n",
    "<b>Surrogate Model</b>: Our duplicate model trained on target model's input/output pairs\n",
    "\n"
   ]
  },
  {
   "cell_type": "code",
   "execution_count": 11,
   "id": "16f29cc8-1963-4447-a684-f75e03a99ebe",
   "metadata": {},
   "outputs": [
    {
     "data": {
      "text/html": [
       "<h3>Emplementation</h3>\n",
       "<iframe src=\"assets/daigram1.png\" width=\"600\" height=\"500\"></iframe>\n"
      ],
      "text/plain": [
       "<IPython.core.display.HTML object>"
      ]
     },
     "metadata": {},
     "output_type": "display_data"
    }
   ],
   "source": [
    "%%html\n",
    "<h3>Emplementation</h3>\n",
    "<iframe src=\"assets/daigram1.png\" width=\"600\" height=\"500\"></iframe>"
   ]
  },
  {
   "cell_type": "markdown",
   "id": "869be8ab-c033-4fd4-91c5-f972f15f5d61",
   "metadata": {},
   "source": [
    "## 0. Libraries Import"
   ]
  },
  {
   "cell_type": "code",
   "execution_count": 12,
   "id": "3908461c-f096-4e54-b589-58ffbde738c9",
   "metadata": {},
   "outputs": [],
   "source": [
    "import tensorflow as tf\n",
    "import numpy as np\n",
    "import requests\n",
    "import matplotlib.pyplot as plt\n",
    "from tqdm.notebook import tqdm\n",
    "%matplotlib inline"
   ]
  },
  {
   "cell_type": "markdown",
   "id": "a68c5609-96d4-474a-8e09-bcc69c118a20",
   "metadata": {},
   "source": [
    "## 1. Configuration\n",
    "We'll set up the basic parameters for our attack:\n",
    "- API URL: Where the victim model is hosted\n"
   ]
  },
  {
   "cell_type": "code",
   "execution_count": 13,
   "id": "bf7f0b24-d3a5-4e95-bb20-a7fdcdc2fb1a",
   "metadata": {},
   "outputs": [],
   "source": [
    "# Configuration\n",
    "API_URL = \"http://localhost:5000/predict\""
   ]
  },
  {
   "cell_type": "markdown",
   "id": "64004319-726d-468e-ab95-9613870a311d",
   "metadata": {},
   "source": [
    "## 2. Multiple surrogate architectures\n"
   ]
  },
  {
   "cell_type": "markdown",
   "id": "33488fc8-39f8-46cb-8b07-d55f13ff9cd5",
   "metadata": {},
   "source": [
    "This class sets up the foundation for a model stealing attack, which is a type of attack where an adversary attempts to recreate the functionality of a \"black-box\" machine learning model by querying it with inputs and observing its outputs. The adversary then uses these input-output pairs to train a surrogate model that mimics the behavior of the target model."
   ]
  },
  {
   "cell_type": "code",
   "execution_count": 14,
   "id": "a42ff375-6f32-4870-b81e-31d263fbcfd8",
   "metadata": {},
   "outputs": [],
   "source": [
    "class ModelStealingAttack:\n",
    "    def __init__(self, input_shape=(28, 28, 1), num_classes=10):\n",
    "        self.input_shape = input_shape\n",
    "        self.num_classes = num_classes\n",
    "        self.target_predictions = []\n"
   ]
  },
  {
   "cell_type": "markdown",
   "id": "e4eee5fc-60da-44a0-815c-8625aa78c659",
   "metadata": {},
   "source": [
    "The method sends a request to a remote machine learning model API and retrieves its prediction probabilities. This is a fundamental step in model stealing: obtaining outputs from the target model that will later be used to train the surrogate model."
   ]
  },
  {
   "cell_type": "code",
   "execution_count": 15,
   "id": "c1496dac-4dc8-4787-934a-0fc13453cdbc",
   "metadata": {},
   "outputs": [],
   "source": [
    "def query_target_model(self, image):\n",
    "    \"\"\"Query the target model API\"\"\"\n",
    "    try:\n",
    "        response = requests.post(\n",
    "            API_URL,\n",
    "            json={'image': image.reshape(28, 28).tolist()}\n",
    "        )\n",
    "        return np.array(response.json()['full_probabilities'])\n",
    "    except Exception as e:\n",
    "        print(f\"Error querying model: {e}\")\n",
    "        return None\n",
    "\n",
    "# Attach the method to the class dynamically\n",
    "ModelStealingAttack.query_target_model = query_target_model\n"
   ]
  },
  {
   "cell_type": "markdown",
   "id": "a90a2a17-051b-4d00-af5e-e12e98fbdac6",
   "metadata": {},
   "source": [
    "The method builds a convolutional neural network (CNN) designed specifically for image classification tasks. The architecture is designed to balance complexity and performance - it needs to be powerful enough to learn the target model's behavior but not unnecessarily complex."
   ]
  },
  {
   "cell_type": "code",
   "execution_count": 16,
   "id": "ad019d6f-5eeb-4b99-9db4-c4dfd55bd144",
   "metadata": {},
   "outputs": [],
   "source": [
    "def create_surrogate_model(self):\n",
    "    \"\"\"Create a simpler surrogate model\"\"\"\n",
    "    model = tf.keras.Sequential([\n",
    "        tf.keras.layers.Conv2D(16, (3, 3), activation='relu', \n",
    "                             input_shape=self.input_shape),\n",
    "        tf.keras.layers.MaxPooling2D((2, 2)),\n",
    "        tf.keras.layers.BatchNormalization(),\n",
    "        tf.keras.layers.Dropout(0.25),\n",
    "\n",
    "        tf.keras.layers.Conv2D(32, (3, 3), activation='relu'),\n",
    "        tf.keras.layers.MaxPooling2D((2, 2)),\n",
    "        tf.keras.layers.BatchNormalization(),\n",
    "        tf.keras.layers.Dropout(0.25),\n",
    "\n",
    "        tf.keras.layers.Flatten(),\n",
    "        tf.keras.layers.Dense(64, activation='relu'),\n",
    "        tf.keras.layers.BatchNormalization(),\n",
    "        tf.keras.layers.Dropout(0.5),\n",
    "        tf.keras.layers.Dense(self.num_classes, activation='softmax')\n",
    "    ])\n",
    "\n",
    "    model.compile(\n",
    "        optimizer=tf.keras.optimizers.Adam(learning_rate=0.001),\n",
    "        loss='categorical_crossentropy',\n",
    "        metrics=['accuracy']\n",
    "    )\n",
    "    \n",
    "    return model\n",
    "\n",
    "# Attach the method to the class dynamically\n",
    "ModelStealingAttack.create_surrogate_model = create_surrogate_model\n"
   ]
  },
  {
   "cell_type": "markdown",
   "id": "787765c6-265a-4286-9618-47256d380541",
   "metadata": {},
   "source": [
    "## 3: Helper Functions\n",
    "We define helper functions to:\n",
    "- Evaluate the success of our model stealing attack\n"
   ]
  },
  {
   "cell_type": "code",
   "execution_count": 17,
   "id": "9c200948-cd6f-4b06-b139-ab824bb6f258",
   "metadata": {},
   "outputs": [],
   "source": [
    "def evaluate_stealing(surrogate_preds, target_preds, true_labels):\n",
    "    \"\"\"Evaluate model stealing success\"\"\"\n",
    "    surrogate_classes = np.argmax(surrogate_preds, axis=1)\n",
    "    target_classes = np.argmax(target_preds, axis=1)\n",
    "    \n",
    "    results = {\n",
    "        'accuracy': np.mean(surrogate_classes == true_labels),\n",
    "        'agreement': np.mean(surrogate_classes == target_classes),\n",
    "        'confidence_correlation': np.corrcoef(\n",
    "            np.max(surrogate_preds, axis=1),\n",
    "            np.max(target_preds, axis=1)\n",
    "        )[0, 1]\n",
    "    }\n",
    "    return results\n"
   ]
  },
  {
   "cell_type": "markdown",
   "id": "8805f914-cc06-4e16-b022-5f321716a0ca",
   "metadata": {},
   "source": [
    "- Compare predictions between target and surrogate models\n",
    "- Visualize results"
   ]
  },
  {
   "cell_type": "code",
   "execution_count": 18,
   "id": "85cb768f-5ae1-4f3c-b6eb-6a6d3ee51db4",
   "metadata": {},
   "outputs": [],
   "source": [
    "\n",
    "def plot_comparison(sample_image, target_pred, surrogate_pred, true_label):\n",
    "    \"\"\"Visualize predictions comparison\"\"\"\n",
    "    plt.figure(figsize=(15, 4))\n",
    "    \n",
    "    # Original Image\n",
    "    plt.subplot(1, 3, 1)\n",
    "    plt.imshow(sample_image.reshape(28, 28), cmap='gray')\n",
    "    plt.title(f'True Label: {true_label}')\n",
    "    plt.axis('off')\n",
    "    \n",
    "    # Target Model Prediction\n",
    "    plt.subplot(1, 3, 2)\n",
    "    plt.bar(range(10), target_pred)\n",
    "    plt.title(f'Target Model\\nPrediction: {np.argmax(target_pred)}')\n",
    "    plt.ylim(0, 1)\n",
    "    \n",
    "    # Surrogate Model Prediction\n",
    "    plt.subplot(1, 3, 3)\n",
    "    plt.bar(range(10), surrogate_pred)\n",
    "    plt.title(f'Surrogate Model\\nPrediction: {np.argmax(surrogate_pred)}')\n",
    "    plt.ylim(0, 1)\n",
    "    \n",
    "    plt.tight_layout()\n",
    "    plt.show()"
   ]
  },
  {
   "cell_type": "markdown",
   "id": "edc89186-4034-4a1f-b91f-e377447a10ae",
   "metadata": {},
   "source": [
    "## 4: Load and Prepare Data\n",
    "We load the MNIST dataset and prepare it for both querying the target model and training our surrogate model."
   ]
  },
  {
   "cell_type": "code",
   "execution_count": 19,
   "id": "d3ee37f4-86a4-4280-b683-537277a6dd6b",
   "metadata": {},
   "outputs": [
    {
     "name": "stdout",
     "output_type": "stream",
     "text": [
      "Loading MNIST dataset...\n",
      "Data shapes:\n",
      "x_train: (60000, 28, 28, 1)\n",
      "x_test: (10000, 28, 28, 1)\n"
     ]
    }
   ],
   "source": [
    "# Load MNIST dataset\n",
    "print(\"Loading MNIST dataset...\")\n",
    "(x_train, y_train), (x_test, y_test) = tf.keras.datasets.mnist.load_data()\n",
    "\n",
    "# Normalize images\n",
    "x_train = x_train.astype('float32') / 255.0\n",
    "x_test = x_test.astype('float32') / 255.0\n",
    "\n",
    "# Reshape for CNN\n",
    "x_train = x_train.reshape(-1, 28, 28, 1)\n",
    "x_test = x_test.reshape(-1, 28, 28, 1)\n",
    "\n",
    "print(\"Data shapes:\")\n",
    "print(f\"x_train: {x_train.shape}\")\n",
    "print(f\"x_test: {x_test.shape}\")"
   ]
  },
  {
   "cell_type": "markdown",
   "id": "e9ed408f-68de-4346-b22d-c9821e754660",
   "metadata": {},
   "source": [
    "## 5: Query Target Model\n",
    "We systematically query the target model with our inputs to collect training data for our surrogate model. We monitor the progress and validate the collected predictions."
   ]
  },
  {
   "cell_type": "code",
   "execution_count": 20,
   "id": "9b033045-2478-45b2-a537-ed17d27ecd0c",
   "metadata": {},
   "outputs": [
    {
     "name": "stdout",
     "output_type": "stream",
     "text": [
      "Querying target model...\n",
      "Progress: 400/2000 samples\n",
      "Validation at 500 samples:\n",
      "Unique predictions so far: [0 1 2 3 4 5 6 7 8 9]\n",
      "Progress: 900/2000 samples\n",
      "Validation at 1000 samples:\n",
      "Unique predictions so far: [0 1 2 3 4 5 6 7 8 9]\n",
      "Progress: 1400/2000 samples\n",
      "Validation at 1500 samples:\n",
      "Unique predictions so far: [0 1 2 3 4 5 6 7 8 9]\n",
      "Progress: 1900/2000 samples\n",
      "Validation at 2000 samples:\n",
      "Unique predictions so far: [0 1 2 3 4 5 6 7 8 9]\n",
      "\n",
      "Finished! Collected 2000 predictions\n",
      "\n",
      "Prediction Analysis:\n",
      "Shape of predictions: (2000, 10)\n",
      "Unique predicted classes: [0 1 2 3 4 5 6 7 8 9]\n",
      "Average confidence: 0.9978\n"
     ]
    }
   ],
   "source": [
    "# Initialize attack\n",
    "attack = ModelStealingAttack()\n",
    "\n",
    "# Query target model\n",
    "print(\"Querying target model...\")\n",
    "num_samples = 2000  # Number of samples to use\n",
    "target_predictions = []\n",
    "\n",
    "# Simple progress tracking\n",
    "for i in range(num_samples):\n",
    "    if i % 100 == 0:  # Show progress every 100 samples\n",
    "        print(f\"Progress: {i}/{num_samples} samples\", end='\\r')\n",
    "    \n",
    "    pred = attack.query_target_model(x_train[i])\n",
    "    if pred is not None:\n",
    "        target_predictions.append(pred)\n",
    "        \n",
    "        # Add some basic validation\n",
    "        if len(target_predictions) % 500 == 0:\n",
    "            print(f\"\\nValidation at {len(target_predictions)} samples:\")\n",
    "            print(f\"Unique predictions so far: {np.unique(np.argmax(target_predictions, axis=1))}\")\n",
    "\n",
    "target_predictions = np.array(target_predictions)\n",
    "print(f\"\\nFinished! Collected {len(target_predictions)} predictions\")\n",
    "\n",
    "# Quick validation of collected predictions\n",
    "print(\"\\nPrediction Analysis:\")\n",
    "print(f\"Shape of predictions: {target_predictions.shape}\")\n",
    "print(f\"Unique predicted classes: {np.unique(np.argmax(target_predictions, axis=1))}\")\n",
    "print(f\"Average confidence: {np.mean(np.max(target_predictions, axis=1)):.4f}\")"
   ]
  },
  {
   "cell_type": "markdown",
   "id": "034c9cce-4682-4402-b4a2-687c6550b14c",
   "metadata": {},
   "source": [
    "## 6: Train Surrogate Model\n",
    "Using the collected data from querying the target model, we train our surrogate model to mimic the target model's behavior.\n"
   ]
  },
  {
   "cell_type": "code",
   "execution_count": 21,
   "id": "a03d9fe1-fa01-4ffa-8f31-41fc8c2df759",
   "metadata": {},
   "outputs": [
    {
     "name": "stdout",
     "output_type": "stream",
     "text": [
      "Training surrogate model...\n",
      "Epoch 1/20\n"
     ]
    },
    {
     "name": "stderr",
     "output_type": "stream",
     "text": [
      "/home/cybok/Desktop/cybok/cybokenv/lib/python3.12/site-packages/keras/src/layers/convolutional/base_conv.py:107: UserWarning: Do not pass an `input_shape`/`input_dim` argument to a layer. When using Sequential models, prefer using an `Input(shape)` object as the first layer in the model instead.\n",
      "  super().__init__(activity_regularizer=activity_regularizer, **kwargs)\n",
      "2025-03-15 22:01:10.891399: E external/local_xla/xla/stream_executor/cuda/cuda_platform.cc:51] failed call to cuInit: INTERNAL: CUDA error: Failed call to cuInit: UNKNOWN ERROR (303)\n"
     ]
    },
    {
     "name": "stdout",
     "output_type": "stream",
     "text": [
      "\u001b[1m50/50\u001b[0m \u001b[32m━━━━━━━━━━━━━━━━━━━━\u001b[0m\u001b[37m\u001b[0m \u001b[1m2s\u001b[0m 13ms/step - accuracy: 0.3336 - loss: 2.2668 - val_accuracy: 0.2300 - val_loss: 1.8900 - learning_rate: 0.0010\n",
      "Epoch 2/20\n",
      "\u001b[1m50/50\u001b[0m \u001b[32m━━━━━━━━━━━━━━━━━━━━\u001b[0m\u001b[37m\u001b[0m \u001b[1m0s\u001b[0m 9ms/step - accuracy: 0.7076 - loss: 0.8671 - val_accuracy: 0.1825 - val_loss: 1.9734 - learning_rate: 0.0010\n",
      "Epoch 3/20\n",
      "\u001b[1m50/50\u001b[0m \u001b[32m━━━━━━━━━━━━━━━━━━━━\u001b[0m\u001b[37m\u001b[0m \u001b[1m1s\u001b[0m 9ms/step - accuracy: 0.7997 - loss: 0.6197 - val_accuracy: 0.1975 - val_loss: 2.1494 - learning_rate: 0.0010\n",
      "Epoch 4/20\n",
      "\u001b[1m50/50\u001b[0m \u001b[32m━━━━━━━━━━━━━━━━━━━━\u001b[0m\u001b[37m\u001b[0m \u001b[1m1s\u001b[0m 10ms/step - accuracy: 0.8412 - loss: 0.5073 - val_accuracy: 0.2175 - val_loss: 2.0445 - learning_rate: 0.0010\n",
      "Epoch 5/20\n",
      "\u001b[1m50/50\u001b[0m \u001b[32m━━━━━━━━━━━━━━━━━━━━\u001b[0m\u001b[37m\u001b[0m \u001b[1m0s\u001b[0m 9ms/step - accuracy: 0.8612 - loss: 0.4327 - val_accuracy: 0.3200 - val_loss: 1.6183 - learning_rate: 0.0010\n",
      "Epoch 6/20\n",
      "\u001b[1m50/50\u001b[0m \u001b[32m━━━━━━━━━━━━━━━━━━━━\u001b[0m\u001b[37m\u001b[0m \u001b[1m1s\u001b[0m 9ms/step - accuracy: 0.8733 - loss: 0.3709 - val_accuracy: 0.5425 - val_loss: 1.1797 - learning_rate: 0.0010\n",
      "Epoch 7/20\n",
      "\u001b[1m50/50\u001b[0m \u001b[32m━━━━━━━━━━━━━━━━━━━━\u001b[0m\u001b[37m\u001b[0m \u001b[1m0s\u001b[0m 9ms/step - accuracy: 0.9095 - loss: 0.3018 - val_accuracy: 0.6900 - val_loss: 0.8142 - learning_rate: 0.0010\n",
      "Epoch 8/20\n",
      "\u001b[1m50/50\u001b[0m \u001b[32m━━━━━━━━━━━━━━━━━━━━\u001b[0m\u001b[37m\u001b[0m \u001b[1m0s\u001b[0m 9ms/step - accuracy: 0.8991 - loss: 0.3434 - val_accuracy: 0.7750 - val_loss: 0.6216 - learning_rate: 0.0010\n",
      "Epoch 9/20\n",
      "\u001b[1m50/50\u001b[0m \u001b[32m━━━━━━━━━━━━━━━━━━━━\u001b[0m\u001b[37m\u001b[0m \u001b[1m1s\u001b[0m 9ms/step - accuracy: 0.9219 - loss: 0.2580 - val_accuracy: 0.8700 - val_loss: 0.4377 - learning_rate: 0.0010\n",
      "Epoch 10/20\n",
      "\u001b[1m50/50\u001b[0m \u001b[32m━━━━━━━━━━━━━━━━━━━━\u001b[0m\u001b[37m\u001b[0m \u001b[1m0s\u001b[0m 9ms/step - accuracy: 0.9404 - loss: 0.2281 - val_accuracy: 0.9275 - val_loss: 0.2820 - learning_rate: 0.0010\n",
      "Epoch 11/20\n",
      "\u001b[1m50/50\u001b[0m \u001b[32m━━━━━━━━━━━━━━━━━━━━\u001b[0m\u001b[37m\u001b[0m \u001b[1m1s\u001b[0m 9ms/step - accuracy: 0.9414 - loss: 0.2221 - val_accuracy: 0.9425 - val_loss: 0.2143 - learning_rate: 0.0010\n",
      "Epoch 12/20\n",
      "\u001b[1m50/50\u001b[0m \u001b[32m━━━━━━━━━━━━━━━━━━━━\u001b[0m\u001b[37m\u001b[0m \u001b[1m0s\u001b[0m 9ms/step - accuracy: 0.9351 - loss: 0.2139 - val_accuracy: 0.9550 - val_loss: 0.1594 - learning_rate: 0.0010\n",
      "Epoch 13/20\n",
      "\u001b[1m50/50\u001b[0m \u001b[32m━━━━━━━━━━━━━━━━━━━━\u001b[0m\u001b[37m\u001b[0m \u001b[1m0s\u001b[0m 10ms/step - accuracy: 0.9393 - loss: 0.1923 - val_accuracy: 0.9625 - val_loss: 0.1283 - learning_rate: 0.0010\n",
      "Epoch 14/20\n",
      "\u001b[1m50/50\u001b[0m \u001b[32m━━━━━━━━━━━━━━━━━━━━\u001b[0m\u001b[37m\u001b[0m \u001b[1m0s\u001b[0m 9ms/step - accuracy: 0.9443 - loss: 0.1868 - val_accuracy: 0.9725 - val_loss: 0.1220 - learning_rate: 0.0010\n",
      "Epoch 15/20\n",
      "\u001b[1m50/50\u001b[0m \u001b[32m━━━━━━━━━━━━━━━━━━━━\u001b[0m\u001b[37m\u001b[0m \u001b[1m0s\u001b[0m 9ms/step - accuracy: 0.9525 - loss: 0.1701 - val_accuracy: 0.9700 - val_loss: 0.1177 - learning_rate: 0.0010\n",
      "Epoch 16/20\n",
      "\u001b[1m50/50\u001b[0m \u001b[32m━━━━━━━━━━━━━━━━━━━━\u001b[0m\u001b[37m\u001b[0m \u001b[1m0s\u001b[0m 9ms/step - accuracy: 0.9356 - loss: 0.1912 - val_accuracy: 0.9700 - val_loss: 0.1105 - learning_rate: 0.0010\n",
      "Epoch 17/20\n",
      "\u001b[1m50/50\u001b[0m \u001b[32m━━━━━━━━━━━━━━━━━━━━\u001b[0m\u001b[37m\u001b[0m \u001b[1m1s\u001b[0m 9ms/step - accuracy: 0.9589 - loss: 0.1546 - val_accuracy: 0.9750 - val_loss: 0.0971 - learning_rate: 0.0010\n",
      "Epoch 18/20\n",
      "\u001b[1m50/50\u001b[0m \u001b[32m━━━━━━━━━━━━━━━━━━━━\u001b[0m\u001b[37m\u001b[0m \u001b[1m1s\u001b[0m 10ms/step - accuracy: 0.9504 - loss: 0.1602 - val_accuracy: 0.9700 - val_loss: 0.0994 - learning_rate: 0.0010\n",
      "Epoch 19/20\n",
      "\u001b[1m50/50\u001b[0m \u001b[32m━━━━━━━━━━━━━━━━━━━━\u001b[0m\u001b[37m\u001b[0m \u001b[1m0s\u001b[0m 9ms/step - accuracy: 0.9637 - loss: 0.1268 - val_accuracy: 0.9675 - val_loss: 0.1024 - learning_rate: 0.0010\n",
      "Epoch 20/20\n",
      "\u001b[1m50/50\u001b[0m \u001b[32m━━━━━━━━━━━━━━━━━━━━\u001b[0m\u001b[37m\u001b[0m \u001b[1m1s\u001b[0m 9ms/step - accuracy: 0.9525 - loss: 0.1548 - val_accuracy: 0.9725 - val_loss: 0.0940 - learning_rate: 0.0010\n"
     ]
    }
   ],
   "source": [
    "# Create and train surrogate model\n",
    "print(\"Training surrogate model...\")\n",
    "surrogate_model = attack.create_surrogate_model()\n",
    "\n",
    "# Training callbacks\n",
    "callbacks = [\n",
    "    tf.keras.callbacks.EarlyStopping(\n",
    "        monitor='val_loss',\n",
    "        patience=10,\n",
    "        restore_best_weights=True\n",
    "    ),\n",
    "    tf.keras.callbacks.ReduceLROnPlateau(\n",
    "        monitor='val_loss',\n",
    "        factor=0.5,\n",
    "        patience=5\n",
    "    )\n",
    "]\n",
    "\n",
    "# Train model\n",
    "history = surrogate_model.fit(\n",
    "    x_train[:num_samples],\n",
    "    target_predictions,\n",
    "    batch_size=32,\n",
    "    epochs=20,\n",
    "    validation_split=0.2,\n",
    "    callbacks=callbacks,\n",
    "    verbose=1\n",
    ")"
   ]
  },
  {
   "cell_type": "markdown",
   "id": "87556572-5bec-436d-a7b6-df46c52de6a3",
   "metadata": {},
   "source": [
    "## 7: Evaluate Attack Success\n",
    "We evaluate how well our surrogate model has learned to mimic the target model by comparing their predictions on test data. We measure:\n",
    "- Accuracy compared to ground truth\n",
    "- Agreement with target model predictions\n",
    "- Correlation of confidence scores"
   ]
  },
  {
   "cell_type": "code",
   "execution_count": 22,
   "id": "9604fb3a-1f5d-43fb-92d2-c4ed5bbf722e",
   "metadata": {},
   "outputs": [
    {
     "name": "stdout",
     "output_type": "stream",
     "text": [
      "Evaluating attack...\n",
      "Progress: 90/100 samples\n",
      "Collected 100 test predictions\n",
      "\n",
      "Attack Results:\n",
      "Accuracy: 1.0000\n",
      "Prediction Agreement: 0.9900\n",
      "Confidence Correlation: 0.5297\n",
      "\n",
      "Prediction Analysis:\n",
      "Target Model:\n",
      "- Unique predictions: [0 1 2 3 4 5 6 7 8 9]\n",
      "- Mean confidence: 0.9963\n",
      "\n",
      "Surrogate Model:\n",
      "- Unique predictions: [0 1 2 3 4 5 6 7 8 9]\n",
      "- Mean confidence: 0.9687\n"
     ]
    }
   ],
   "source": [
    "# Evaluate attack\n",
    "print(\"Evaluating attack...\")\n",
    "test_samples = 100\n",
    "test_target_preds = []\n",
    "\n",
    "# Simple progress tracking for evaluation\n",
    "for i in range(test_samples):\n",
    "    if i % 10 == 0:  # Update progress every 10 samples\n",
    "        print(f\"Progress: {i}/{test_samples} samples\", end='\\r')\n",
    "    \n",
    "    pred = attack.query_target_model(x_test[i])\n",
    "    if pred is not None:\n",
    "        test_target_preds.append(pred)\n",
    "\n",
    "test_target_preds = np.array(test_target_preds)\n",
    "print(f\"\\nCollected {len(test_target_preds)} test predictions\")\n",
    "\n",
    "# Get surrogate model predictions\n",
    "surrogate_preds = surrogate_model.predict(x_test[:test_samples], verbose=0)\n",
    "\n",
    "# Calculate results\n",
    "results = evaluate_stealing(\n",
    "    surrogate_preds,\n",
    "    test_target_preds,\n",
    "    y_test[:test_samples]\n",
    ")\n",
    "\n",
    "print(\"\\nAttack Results:\")\n",
    "print(f\"Accuracy: {results['accuracy']:.4f}\")\n",
    "print(f\"Prediction Agreement: {results['agreement']:.4f}\")\n",
    "print(f\"Confidence Correlation: {results['confidence_correlation']:.4f}\")\n",
    "\n",
    "# Additional analysis\n",
    "print(\"\\nPrediction Analysis:\")\n",
    "print(\"Target Model:\")\n",
    "print(f\"- Unique predictions: {np.unique(np.argmax(test_target_preds, axis=1))}\")\n",
    "print(f\"- Mean confidence: {np.mean(np.max(test_target_preds, axis=1)):.4f}\")\n",
    "print(\"\\nSurrogate Model:\")\n",
    "print(f\"- Unique predictions: {np.unique(np.argmax(surrogate_preds, axis=1))}\")\n",
    "print(f\"- Mean confidence: {np.mean(np.max(surrogate_preds, axis=1)):.4f}\")"
   ]
  },
  {
   "cell_type": "markdown",
   "id": "ac283089-f153-463c-b128-2c72178c68e9",
   "metadata": {},
   "source": [
    "## 8: Visualize Results\n",
    "We create visualizations comparing the predictions of both models on example inputs to qualitatively assess the attack's success."
   ]
  },
  {
   "cell_type": "code",
   "execution_count": 23,
   "id": "2f4003f4-0f98-424d-8fd0-5b268f298413",
   "metadata": {},
   "outputs": [
    {
     "name": "stdout",
     "output_type": "stream",
     "text": [
      "Visualizing examples...\n"
     ]
    },
    {
     "data": {
      "image/png": "[encoded data removed]",
      "text/plain": [
       "<Figure size 1500x400 with 3 Axes>"
      ]
     },
     "metadata": {},
     "output_type": "display_data"
    },
    {
     "data": {
      "image/png": "[encoded data removed]",
      "text/plain": [
       "<Figure size 1500x400 with 3 Axes>"
      ]
     },
     "metadata": {},
     "output_type": "display_data"
    },
    {
     "data": {
      "image/png": "[encoded data removed]",
      "text/plain": [
       "<Figure size 1500x400 with 3 Axes>"
      ]
     },
     "metadata": {},
     "output_type": "display_data"
    },
    {
     "name": "stdout",
     "output_type": "stream",
     "text": [
      "\n",
      "Surrogate model saved as 'stolen_model.keras'\n"
     ]
    }
   ],
   "source": [
    "# Visualize examples\n",
    "print(\"Visualizing examples...\")\n",
    "for i in range(3):\n",
    "    plot_comparison(\n",
    "        x_test[i],\n",
    "        test_target_preds[i],\n",
    "        surrogate_preds[i],\n",
    "        y_test[i]\n",
    "    )\n",
    "\n",
    "# Save surrogate model\n",
    "surrogate_model.save('models/stolen_model.keras')\n",
    "print(\"\\nSurrogate model saved as 'stolen_model.keras'\")"
   ]
  },
  {
   "cell_type": "code",
   "execution_count": null,
   "id": "97442906-81fc-4efb-9173-047dc567c9d3",
   "metadata": {},
   "outputs": [],
   "source": []
  },
  {
   "cell_type": "code",
   "execution_count": null,
   "id": "1519dce2-d615-4b62-a04f-edfe69f26093",
   "metadata": {},
   "outputs": [],
   "source": []
  },
  {
   "cell_type": "code",
   "execution_count": null,
   "id": "c4026451-bf11-4e8f-9d72-633d03358477",
   "metadata": {},
   "outputs": [],
   "source": []
  },
  {
   "cell_type": "code",
   "execution_count": null,
   "id": "c19b9058-1fc5-4281-a5b7-0d251220113d",
   "metadata": {},
   "outputs": [],
   "source": []
  },
  {
   "cell_type": "code",
   "execution_count": null,
   "id": "36d5ebd4-2306-4353-841c-bb16c140fee1",
   "metadata": {},
   "outputs": [],
   "source": []
  },
  {
   "cell_type": "code",
   "execution_count": null,
   "id": "405f6c67-88ba-49bc-8eb2-06c4f6c3d886",
   "metadata": {},
   "outputs": [],
   "source": []
  },
  {
   "cell_type": "code",
   "execution_count": null,
   "id": "ba1ce377-9c01-480e-b194-9365f1f081fc",
   "metadata": {},
   "outputs": [],
   "source": []
  },
  {
   "cell_type": "code",
   "execution_count": null,
   "id": "69bd16cd-9a09-48f2-8c81-48b68319d9e5",
   "metadata": {},
   "outputs": [],
   "source": []
  },
  {
   "cell_type": "code",
   "execution_count": null,
   "id": "7269374f-5ea8-43de-9611-078092989815",
   "metadata": {},
   "outputs": [],
   "source": []
  },
  {
   "cell_type": "code",
   "execution_count": null,
   "id": "b0760918-55cf-437b-9b6d-e5c69e35e8f9",
   "metadata": {},
   "outputs": [],
   "source": []
  },
  {
   "cell_type": "code",
   "execution_count": null,
   "id": "0ee67166-2b8d-401c-8d81-92b42ed16f4a",
   "metadata": {},
   "outputs": [],
   "source": []
  },
  {
   "cell_type": "code",
   "execution_count": null,
   "id": "84f018d9-cdf6-4a38-90ff-d501b85eb33b",
   "metadata": {},
   "outputs": [],
   "source": []
  },
  {
   "cell_type": "code",
   "execution_count": null,
   "id": "47fcd0da-a0fa-4dd6-9a06-9cdb33f95e80",
   "metadata": {},
   "outputs": [],
   "source": []
  },
  {
   "cell_type": "code",
   "execution_count": null,
   "id": "fb8efb7a-c3d1-4185-a5fa-40df94f6ef21",
   "metadata": {},
   "outputs": [],
   "source": []
  },
  {
   "cell_type": "code",
   "execution_count": null,
   "id": "af333ee7-e095-4864-af9b-831cd819f86c",
   "metadata": {},
   "outputs": [],
   "source": []
  },
  {
   "cell_type": "code",
   "execution_count": null,
   "id": "3dd8a614-4a43-41b6-9e87-79f7720ea8e4",
   "metadata": {},
   "outputs": [],
   "source": []
  },
  {
   "cell_type": "code",
   "execution_count": null,
   "id": "6397c5a7-e8a6-4eeb-b01b-96bf6078a1fb",
   "metadata": {},
   "outputs": [],
   "source": []
  },
  {
   "cell_type": "code",
   "execution_count": null,
   "id": "11198659-5a70-469a-a759-070b1d5b5530",
   "metadata": {},
   "outputs": [],
   "source": []
  },
  {
   "cell_type": "code",
   "execution_count": null,
   "id": "91f5ff53-e926-45f4-81ec-914f6d69b1df",
   "metadata": {},
   "outputs": [],
   "source": []
  },
  {
   "cell_type": "code",
   "execution_count": null,
   "id": "b1867fcd-4b81-471d-84a6-e7f5b88a0c89",
   "metadata": {},
   "outputs": [],
   "source": []
  },
  {
   "cell_type": "code",
   "execution_count": null,
   "id": "864b5681-3cfe-422f-bed9-1738ca90af3c",
   "metadata": {},
   "outputs": [],
   "source": []
  },
  {
   "cell_type": "code",
   "execution_count": null,
   "id": "38236b19-9f2c-4c89-8bf6-be2ba37b2b38",
   "metadata": {},
   "outputs": [],
   "source": []
  },
  {
   "cell_type": "code",
   "execution_count": null,
   "id": "6df5e6ff-e6dd-43e4-b08f-a43ee94eeab2",
   "metadata": {},
   "outputs": [],
   "source": []
  },
  {
   "cell_type": "code",
   "execution_count": null,
   "id": "e5e8c78e-c6a2-4541-b2b9-64e55c58ba27",
   "metadata": {},
   "outputs": [],
   "source": []
  },
  {
   "cell_type": "code",
   "execution_count": null,
   "id": "1676c192-4d06-45eb-9a09-785294fd6cf3",
   "metadata": {},
   "outputs": [],
   "source": []
  },
  {
   "cell_type": "code",
   "execution_count": null,
   "id": "9f6c1bdc-2a5d-4d25-93e7-3cf7d91ad945",
   "metadata": {},
   "outputs": [],
   "source": []
  },
  {
   "cell_type": "code",
   "execution_count": null,
   "id": "9ddecf7b-f693-42a4-b1f0-8314527898d1",
   "metadata": {},
   "outputs": [],
   "source": []
  },
  {
   "cell_type": "code",
   "execution_count": null,
   "id": "a1d7420e-a9b9-481c-8297-f307c459838a",
   "metadata": {},
   "outputs": [],
   "source": []
  },
  {
   "cell_type": "code",
   "execution_count": null,
   "id": "c59e4e47-1cc7-4104-904a-f4519299be86",
   "metadata": {},
   "outputs": [],
   "source": []
  },
  {
   "cell_type": "code",
   "execution_count": null,
   "id": "2868d7b9-47dd-4d15-8067-f1b87eeddca8",
   "metadata": {},
   "outputs": [],
   "source": []
  },
  {
   "cell_type": "code",
   "execution_count": null,
   "id": "d4380af4-8efb-4beb-9eb4-3a4976ff09f2",
   "metadata": {},
   "outputs": [],
   "source": []
  },
  {
   "cell_type": "code",
   "execution_count": null,
   "id": "e1e51f5d-2a7f-4a95-b66d-afe35073b2b2",
   "metadata": {},
   "outputs": [],
   "source": []
  },
  {
   "cell_type": "code",
   "execution_count": null,
   "id": "f4efae58-de6f-4862-bc59-9305ecda6339",
   "metadata": {},
   "outputs": [],
   "source": []
  },
  {
   "cell_type": "code",
   "execution_count": null,
   "id": "03c5756c-b7d8-4081-8a41-d3fa1e028054",
   "metadata": {},
   "outputs": [],
   "source": []
  },
  {
   "cell_type": "code",
   "execution_count": null,
   "id": "3564aeda-0071-4590-971f-5a423e8fe761",
   "metadata": {},
   "outputs": [],
   "source": []
  },
  {
   "cell_type": "code",
   "execution_count": null,
   "id": "f2cf3e8a-e127-4f3e-9b27-6742c89d790a",
   "metadata": {},
   "outputs": [],
   "source": []
  },
  {
   "cell_type": "code",
   "execution_count": null,
   "id": "e098e472-2ffe-422c-be05-7f19a7d96a4f",
   "metadata": {},
   "outputs": [],
   "source": []
  },
  {
   "cell_type": "code",
   "execution_count": null,
   "id": "a2778e4d-c1b5-473f-9a10-7bbceb732cfa",
   "metadata": {},
   "outputs": [],
   "source": []
  },
  {
   "cell_type": "code",
   "execution_count": null,
   "id": "d0824b80-fe98-4591-ac11-04398776ad6c",
   "metadata": {},
   "outputs": [],
   "source": []
  },
  {
   "cell_type": "code",
   "execution_count": null,
   "id": "65aa5984-7b32-4453-b53f-3a6af2d91b4f",
   "metadata": {},
   "outputs": [],
   "source": []
  },
  {
   "cell_type": "code",
   "execution_count": null,
   "id": "1ba443ac-83a3-46e1-ae29-e640d1737823",
   "metadata": {},
   "outputs": [],
   "source": []
  },
  {
   "cell_type": "code",
   "execution_count": null,
   "id": "c68a1d68-5dd8-42c2-8094-07d69b4fc6f8",
   "metadata": {},
   "outputs": [],
   "source": []
  },
  {
   "cell_type": "code",
   "execution_count": null,
   "id": "8b784f42-1c8f-4d8d-b0ae-cd66f0e3f5ec",
   "metadata": {},
   "outputs": [],
   "source": []
  },
  {
   "cell_type": "code",
   "execution_count": null,
   "id": "33164cca-714f-471a-b85c-27b8b1456a25",
   "metadata": {},
   "outputs": [],
   "source": []
  },
  {
   "cell_type": "code",
   "execution_count": null,
   "id": "ab182fcd-b627-4813-92dc-2a5424938d02",
   "metadata": {},
   "outputs": [],
   "source": []
  },
  {
   "cell_type": "code",
   "execution_count": null,
   "id": "abed1203-de40-4332-b998-08af1a30dae3",
   "metadata": {},
   "outputs": [],
   "source": []
  },
  {
   "cell_type": "code",
   "execution_count": null,
   "id": "30b15fd5-18a4-42e5-bbb1-f650251aa3d2",
   "metadata": {},
   "outputs": [],
   "source": []
  },
  {
   "cell_type": "code",
   "execution_count": null,
   "id": "8f35d894-22fb-469c-8f08-1114cc47cc81",
   "metadata": {},
   "outputs": [],
   "source": []
  },
  {
   "cell_type": "code",
   "execution_count": null,
   "id": "93d48603-2e48-40f1-ac73-68bd9291e714",
   "metadata": {},
   "outputs": [],
   "source": []
  },
  {
   "cell_type": "code",
   "execution_count": null,
   "id": "b44099a3-c572-4630-a4e4-1f1a25341f2d",
   "metadata": {},
   "outputs": [],
   "source": []
  },
  {
   "cell_type": "code",
   "execution_count": null,
   "id": "0c924c33-6559-4fbb-9e66-ba50e8b80571",
   "metadata": {},
   "outputs": [],
   "source": []
  },
  {
   "cell_type": "code",
   "execution_count": null,
   "id": "69873dea-d41b-48a4-a56e-d8a9d2791765",
   "metadata": {},
   "outputs": [],
   "source": []
  },
  {
   "cell_type": "code",
   "execution_count": null,
   "id": "2e274d7a-07b3-4b42-96dc-0320ba0aafbe",
   "metadata": {},
   "outputs": [],
   "source": []
  },
  {
   "cell_type": "code",
   "execution_count": null,
   "id": "88f352ab-7bf8-4901-ac86-48ad82ff10d8",
   "metadata": {},
   "outputs": [],
   "source": []
  },
  {
   "cell_type": "code",
   "execution_count": null,
   "id": "5fed67d7-a186-46e3-8bcc-53ad49e2dc5f",
   "metadata": {},
   "outputs": [],
   "source": []
  },
  {
   "cell_type": "code",
   "execution_count": null,
   "id": "d81ec620-6a1d-4ac8-a4ef-d68afc5f3232",
   "metadata": {},
   "outputs": [],
   "source": []
  },
  {
   "cell_type": "code",
   "execution_count": null,
   "id": "b98b70fe-9500-4ffe-8700-6282379c779d",
   "metadata": {},
   "outputs": [],
   "source": []
  },
  {
   "cell_type": "code",
   "execution_count": null,
   "id": "d99a50fd-1e19-41c7-8a97-e49dec4ad60d",
   "metadata": {},
   "outputs": [],
   "source": []
  },
  {
   "cell_type": "code",
   "execution_count": null,
   "id": "697d69af-2773-43fd-a96d-73227a8cac58",
   "metadata": {},
   "outputs": [],
   "source": []
  },
  {
   "cell_type": "code",
   "execution_count": null,
   "id": "b7eb9a82-ca04-435c-9ca0-228dd1cd2d17",
   "metadata": {},
   "outputs": [],
   "source": []
  },
  {
   "cell_type": "code",
   "execution_count": null,
   "id": "d4d49190-eef7-42d8-b733-f9929be5bb07",
   "metadata": {},
   "outputs": [],
   "source": []
  },
  {
   "cell_type": "code",
   "execution_count": null,
   "id": "41651f99-8667-47a0-a5f0-6504650fdb61",
   "metadata": {},
   "outputs": [],
   "source": []
  },
  {
   "cell_type": "code",
   "execution_count": null,
   "id": "02f7f19b-19ed-4de6-8a4e-51d88ff2e4de",
   "metadata": {},
   "outputs": [],
   "source": []
  },
  {
   "cell_type": "code",
   "execution_count": null,
   "id": "9009d604-2ee4-4400-950b-67a9b6439abd",
   "metadata": {},
   "outputs": [],
   "source": []
  }
 ],
 "metadata": {
  "kernelspec": {
   "display_name": "Python 3 (ipykernel)",
   "language": "python",
   "name": "python3"
  },
  "language_info": {
   "codemirror_mode": {
    "name": "ipython",
    "version": 3
   },
   "file_extension": ".py",
   "mimetype": "text/x-python",
   "name": "python",
   "nbconvert_exporter": "python",
   "pygments_lexer": "ipython3",
   "version": "3.12.3"
  }
 },
 "nbformat": 4,
 "nbformat_minor": 5
}
