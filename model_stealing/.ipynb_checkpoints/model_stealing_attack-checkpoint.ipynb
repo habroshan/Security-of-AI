{
 "cells": [
  {
   "cell_type": "markdown",
   "id": "91a2945c-35b8-4c8d-b01c-782c49e05bc3",
   "metadata": {},
   "source": [
    "# Model Stealing Attack\n",
    "\n"
   ]
  },
  {
   "cell_type": "markdown",
   "id": "29a31a49-fd32-49c4-8606-dc415c574a5e",
   "metadata": {},
   "source": [
    "### This notebook demonstrates an advanced model stealing attack with:\n"
   ]
  },
  {
   "cell_type": "markdown",
   "id": "869be8ab-c033-4fd4-91c5-f972f15f5d61",
   "metadata": {},
   "source": [
    "### 0. Libraries Import"
   ]
  },
  {
   "cell_type": "code",
   "execution_count": 1,
   "id": "3908461c-f096-4e54-b589-58ffbde738c9",
   "metadata": {},
   "outputs": [
    {
     "name": "stderr",
     "output_type": "stream",
     "text": [
      "2025-02-16 00:35:28.921413: I tensorflow/core/util/port.cc:153] oneDNN custom operations are on. You may see slightly different numerical results due to floating-point round-off errors from different computation orders. To turn them off, set the environment variable `TF_ENABLE_ONEDNN_OPTS=0`.\n",
      "2025-02-16 00:35:29.157833: E external/local_xla/xla/stream_executor/cuda/cuda_fft.cc:477] Unable to register cuFFT factory: Attempting to register factory for plugin cuFFT when one has already been registered\n",
      "WARNING: All log messages before absl::InitializeLog() is called are written to STDERR\n",
      "E0000 00:00:1739666129.397599  127772 cuda_dnn.cc:8310] Unable to register cuDNN factory: Attempting to register factory for plugin cuDNN when one has already been registered\n",
      "E0000 00:00:1739666129.434348  127772 cuda_blas.cc:1418] Unable to register cuBLAS factory: Attempting to register factory for plugin cuBLAS when one has already been registered\n",
      "2025-02-16 00:35:29.600295: I tensorflow/core/platform/cpu_feature_guard.cc:210] This TensorFlow binary is optimized to use available CPU instructions in performance-critical operations.\n",
      "To enable the following instructions: AVX2 AVX_VNNI FMA, in other operations, rebuild TensorFlow with the appropriate compiler flags.\n"
     ]
    }
   ],
   "source": [
    "import tensorflow as tf\n",
    "import numpy as np\n",
    "import requests\n",
    "import matplotlib.pyplot as plt\n",
    "from tqdm.notebook import tqdm\n",
    "%matplotlib inline"
   ]
  },
  {
   "cell_type": "markdown",
   "id": "a68c5609-96d4-474a-8e09-bcc69c118a20",
   "metadata": {},
   "source": [
    "### 1. API interaction"
   ]
  },
  {
   "cell_type": "code",
   "execution_count": 2,
   "id": "bf7f0b24-d3a5-4e95-bb20-a7fdcdc2fb1a",
   "metadata": {},
   "outputs": [],
   "source": [
    "# Configuration\n",
    "API_URL = \"http://localhost:5000/predict\""
   ]
  },
  {
   "cell_type": "markdown",
   "id": "64004319-726d-468e-ab95-9613870a311d",
   "metadata": {},
   "source": [
    "### 2. Multiple surrogate architectures\n"
   ]
  },
  {
   "cell_type": "code",
   "execution_count": 3,
   "id": "f886d70a-b8f4-4bae-a37c-8a1e488aa5cf",
   "metadata": {},
   "outputs": [],
   "source": [
    "class ModelStealingAttack:\n",
    "    def __init__(self, input_shape=(28, 28, 1), num_classes=10):\n",
    "        self.input_shape = input_shape\n",
    "        self.num_classes = num_classes\n",
    "        self.target_predictions = []\n",
    "        \n",
    "    def query_target_model(self, image):\n",
    "        \"\"\"Query the target model API\"\"\"\n",
    "        try:\n",
    "            response = requests.post(\n",
    "                API_URL,\n",
    "                json={'image': image.reshape(28, 28).tolist()}\n",
    "            )\n",
    "            return np.array(response.json()['full_probabilities'])\n",
    "        except Exception as e:\n",
    "            print(f\"Error querying model: {e}\")\n",
    "            return None\n",
    "    \n",
    "    def create_surrogate_model(self):\n",
    "        \"\"\"Create a simpler surrogate model\"\"\"\n",
    "        model = tf.keras.Sequential([\n",
    "            # First Convolutional Block\n",
    "            tf.keras.layers.Conv2D(16, (3, 3), activation='relu', \n",
    "                                 input_shape=self.input_shape),\n",
    "            tf.keras.layers.MaxPooling2D((2, 2)),\n",
    "            tf.keras.layers.BatchNormalization(),\n",
    "            tf.keras.layers.Dropout(0.25),\n",
    "            \n",
    "            # Second Convolutional Block\n",
    "            tf.keras.layers.Conv2D(32, (3, 3), activation='relu'),\n",
    "            tf.keras.layers.MaxPooling2D((2, 2)),\n",
    "            tf.keras.layers.BatchNormalization(),\n",
    "            tf.keras.layers.Dropout(0.25),\n",
    "            \n",
    "            # Dense Layers\n",
    "            tf.keras.layers.Flatten(),\n",
    "            tf.keras.layers.Dense(64, activation='relu'),\n",
    "            tf.keras.layers.BatchNormalization(),\n",
    "            tf.keras.layers.Dropout(0.5),\n",
    "            tf.keras.layers.Dense(self.num_classes, activation='softmax')\n",
    "        ])\n",
    "        \n",
    "        model.compile(\n",
    "            optimizer=tf.keras.optimizers.Adam(learning_rate=0.001),\n",
    "            loss='categorical_crossentropy',\n",
    "            metrics=['accuracy']\n",
    "        )\n",
    "        \n",
    "        return model"
   ]
  },
  {
   "cell_type": "code",
   "execution_count": 4,
   "id": "85cb768f-5ae1-4f3c-b6eb-6a6d3ee51db4",
   "metadata": {},
   "outputs": [],
   "source": [
    "def evaluate_stealing(surrogate_preds, target_preds, true_labels):\n",
    "    \"\"\"Evaluate model stealing success\"\"\"\n",
    "    surrogate_classes = np.argmax(surrogate_preds, axis=1)\n",
    "    target_classes = np.argmax(target_preds, axis=1)\n",
    "    \n",
    "    results = {\n",
    "        'accuracy': np.mean(surrogate_classes == true_labels),\n",
    "        'agreement': np.mean(surrogate_classes == target_classes),\n",
    "        'confidence_correlation': np.corrcoef(\n",
    "            np.max(surrogate_preds, axis=1),\n",
    "            np.max(target_preds, axis=1)\n",
    "        )[0, 1]\n",
    "    }\n",
    "    return results\n",
    "\n",
    "def plot_comparison(sample_image, target_pred, surrogate_pred, true_label):\n",
    "    \"\"\"Visualize predictions comparison\"\"\"\n",
    "    plt.figure(figsize=(15, 4))\n",
    "    \n",
    "    # Original Image\n",
    "    plt.subplot(1, 3, 1)\n",
    "    plt.imshow(sample_image.reshape(28, 28), cmap='gray')\n",
    "    plt.title(f'True Label: {true_label}')\n",
    "    plt.axis('off')\n",
    "    \n",
    "    # Target Model Prediction\n",
    "    plt.subplot(1, 3, 2)\n",
    "    plt.bar(range(10), target_pred)\n",
    "    plt.title(f'Target Model\\nPrediction: {np.argmax(target_pred)}')\n",
    "    plt.ylim(0, 1)\n",
    "    \n",
    "    # Surrogate Model Prediction\n",
    "    plt.subplot(1, 3, 3)\n",
    "    plt.bar(range(10), surrogate_pred)\n",
    "    plt.title(f'Surrogate Model\\nPrediction: {np.argmax(surrogate_pred)}')\n",
    "    plt.ylim(0, 1)\n",
    "    \n",
    "    plt.tight_layout()\n",
    "    plt.show()"
   ]
  },
  {
   "cell_type": "code",
   "execution_count": 5,
   "id": "d3ee37f4-86a4-4280-b683-537277a6dd6b",
   "metadata": {},
   "outputs": [
    {
     "name": "stdout",
     "output_type": "stream",
     "text": [
      "Loading MNIST dataset...\n",
      "Data shapes:\n",
      "x_train: (60000, 28, 28, 1)\n",
      "x_test: (10000, 28, 28, 1)\n"
     ]
    }
   ],
   "source": [
    "# Load MNIST dataset\n",
    "print(\"Loading MNIST dataset...\")\n",
    "(x_train, y_train), (x_test, y_test) = tf.keras.datasets.mnist.load_data()\n",
    "\n",
    "# Normalize images\n",
    "x_train = x_train.astype('float32') / 255.0\n",
    "x_test = x_test.astype('float32') / 255.0\n",
    "\n",
    "# Reshape for CNN\n",
    "x_train = x_train.reshape(-1, 28, 28, 1)\n",
    "x_test = x_test.reshape(-1, 28, 28, 1)\n",
    "\n",
    "print(\"Data shapes:\")\n",
    "print(f\"x_train: {x_train.shape}\")\n",
    "print(f\"x_test: {x_test.shape}\")"
   ]
  },
  {
   "cell_type": "code",
   "execution_count": 9,
   "id": "9b033045-2478-45b2-a537-ed17d27ecd0c",
   "metadata": {},
   "outputs": [
    {
     "name": "stdout",
     "output_type": "stream",
     "text": [
      "Querying target model...\n",
      "Progress: 400/2000 samples\n",
      "Validation at 500 samples:\n",
      "Unique predictions so far: [0 1 2 3 4 5 6 7 8 9]\n",
      "Progress: 900/2000 samples\n",
      "Validation at 1000 samples:\n",
      "Unique predictions so far: [0 1 2 3 4 5 6 7 8 9]\n",
      "Progress: 1400/2000 samples\n",
      "Validation at 1500 samples:\n",
      "Unique predictions so far: [0 1 2 3 4 5 6 7 8 9]\n",
      "Progress: 1900/2000 samples\n",
      "Validation at 2000 samples:\n",
      "Unique predictions so far: [0 1 2 3 4 5 6 7 8 9]\n",
      "\n",
      "Finished! Collected 2000 predictions\n",
      "\n",
      "Prediction Analysis:\n",
      "Shape of predictions: (2000, 10)\n",
      "Unique predicted classes: [0 1 2 3 4 5 6 7 8 9]\n",
      "Average confidence: 0.9979\n"
     ]
    }
   ],
   "source": [
    "# Initialize attack\n",
    "attack = ModelStealingAttack()\n",
    "\n",
    "# Query target model\n",
    "print(\"Querying target model...\")\n",
    "num_samples = 2000  # Number of samples to use\n",
    "target_predictions = []\n",
    "\n",
    "# Simple progress tracking\n",
    "for i in range(num_samples):\n",
    "    if i % 100 == 0:  # Show progress every 100 samples\n",
    "        print(f\"Progress: {i}/{num_samples} samples\", end='\\r')\n",
    "    \n",
    "    pred = attack.query_target_model(x_train[i])\n",
    "    if pred is not None:\n",
    "        target_predictions.append(pred)\n",
    "        \n",
    "        # Add some basic validation\n",
    "        if len(target_predictions) % 500 == 0:\n",
    "            print(f\"\\nValidation at {len(target_predictions)} samples:\")\n",
    "            print(f\"Unique predictions so far: {np.unique(np.argmax(target_predictions, axis=1))}\")\n",
    "\n",
    "target_predictions = np.array(target_predictions)\n",
    "print(f\"\\nFinished! Collected {len(target_predictions)} predictions\")\n",
    "\n",
    "# Quick validation of collected predictions\n",
    "print(\"\\nPrediction Analysis:\")\n",
    "print(f\"Shape of predictions: {target_predictions.shape}\")\n",
    "print(f\"Unique predicted classes: {np.unique(np.argmax(target_predictions, axis=1))}\")\n",
    "print(f\"Average confidence: {np.mean(np.max(target_predictions, axis=1)):.4f}\")"
   ]
  },
  {
   "cell_type": "code",
   "execution_count": 15,
   "id": "a03d9fe1-fa01-4ffa-8f31-41fc8c2df759",
   "metadata": {},
   "outputs": [
    {
     "name": "stdout",
     "output_type": "stream",
     "text": [
      "Training surrogate model...\n",
      "Epoch 1/20\n",
      "\u001b[1m50/50\u001b[0m \u001b[32m━━━━━━━━━━━━━━━━━━━━\u001b[0m\u001b[37m\u001b[0m \u001b[1m2s\u001b[0m 15ms/step - accuracy: 0.3219 - loss: 2.5143 - val_accuracy: 0.4475 - val_loss: 1.9310 - learning_rate: 0.0010\n",
      "Epoch 2/20\n",
      "\u001b[1m50/50\u001b[0m \u001b[32m━━━━━━━━━━━━━━━━━━━━\u001b[0m\u001b[37m\u001b[0m \u001b[1m1s\u001b[0m 11ms/step - accuracy: 0.7124 - loss: 0.8886 - val_accuracy: 0.3850 - val_loss: 1.7678 - learning_rate: 0.0010\n",
      "Epoch 3/20\n",
      "\u001b[1m50/50\u001b[0m \u001b[32m━━━━━━━━━━━━━━━━━━━━\u001b[0m\u001b[37m\u001b[0m \u001b[1m1s\u001b[0m 10ms/step - accuracy: 0.7827 - loss: 0.6826 - val_accuracy: 0.3200 - val_loss: 1.7680 - learning_rate: 0.0010\n",
      "Epoch 4/20\n",
      "\u001b[1m50/50\u001b[0m \u001b[32m━━━━━━━━━━━━━━━━━━━━\u001b[0m\u001b[37m\u001b[0m \u001b[1m1s\u001b[0m 10ms/step - accuracy: 0.8513 - loss: 0.4858 - val_accuracy: 0.3800 - val_loss: 1.6262 - learning_rate: 0.0010\n",
      "Epoch 5/20\n",
      "\u001b[1m50/50\u001b[0m \u001b[32m━━━━━━━━━━━━━━━━━━━━\u001b[0m\u001b[37m\u001b[0m \u001b[1m1s\u001b[0m 10ms/step - accuracy: 0.8773 - loss: 0.4282 - val_accuracy: 0.4575 - val_loss: 1.3539 - learning_rate: 0.0010\n",
      "Epoch 6/20\n",
      "\u001b[1m50/50\u001b[0m \u001b[32m━━━━━━━━━━━━━━━━━━━━\u001b[0m\u001b[37m\u001b[0m \u001b[1m1s\u001b[0m 10ms/step - accuracy: 0.8930 - loss: 0.3549 - val_accuracy: 0.5650 - val_loss: 1.1324 - learning_rate: 0.0010\n",
      "Epoch 7/20\n",
      "\u001b[1m50/50\u001b[0m \u001b[32m━━━━━━━━━━━━━━━━━━━━\u001b[0m\u001b[37m\u001b[0m \u001b[1m1s\u001b[0m 10ms/step - accuracy: 0.9047 - loss: 0.3220 - val_accuracy: 0.7175 - val_loss: 0.8189 - learning_rate: 0.0010\n",
      "Epoch 8/20\n",
      "\u001b[1m50/50\u001b[0m \u001b[32m━━━━━━━━━━━━━━━━━━━━\u001b[0m\u001b[37m\u001b[0m \u001b[1m1s\u001b[0m 10ms/step - accuracy: 0.9157 - loss: 0.3020 - val_accuracy: 0.8300 - val_loss: 0.5607 - learning_rate: 0.0010\n",
      "Epoch 9/20\n",
      "\u001b[1m50/50\u001b[0m \u001b[32m━━━━━━━━━━━━━━━━━━━━\u001b[0m\u001b[37m\u001b[0m \u001b[1m1s\u001b[0m 10ms/step - accuracy: 0.9241 - loss: 0.2561 - val_accuracy: 0.8850 - val_loss: 0.3698 - learning_rate: 0.0010\n",
      "Epoch 10/20\n",
      "\u001b[1m50/50\u001b[0m \u001b[32m━━━━━━━━━━━━━━━━━━━━\u001b[0m\u001b[37m\u001b[0m \u001b[1m1s\u001b[0m 13ms/step - accuracy: 0.9207 - loss: 0.2662 - val_accuracy: 0.9375 - val_loss: 0.2416 - learning_rate: 0.0010\n",
      "Epoch 11/20\n",
      "\u001b[1m50/50\u001b[0m \u001b[32m━━━━━━━━━━━━━━━━━━━━\u001b[0m\u001b[37m\u001b[0m \u001b[1m1s\u001b[0m 12ms/step - accuracy: 0.9431 - loss: 0.2165 - val_accuracy: 0.9400 - val_loss: 0.1775 - learning_rate: 0.0010\n",
      "Epoch 12/20\n",
      "\u001b[1m50/50\u001b[0m \u001b[32m━━━━━━━━━━━━━━━━━━━━\u001b[0m\u001b[37m\u001b[0m \u001b[1m1s\u001b[0m 11ms/step - accuracy: 0.9454 - loss: 0.1951 - val_accuracy: 0.9625 - val_loss: 0.1352 - learning_rate: 0.0010\n",
      "Epoch 13/20\n",
      "\u001b[1m50/50\u001b[0m \u001b[32m━━━━━━━━━━━━━━━━━━━━\u001b[0m\u001b[37m\u001b[0m \u001b[1m1s\u001b[0m 11ms/step - accuracy: 0.9376 - loss: 0.2143 - val_accuracy: 0.9700 - val_loss: 0.1210 - learning_rate: 0.0010\n",
      "Epoch 14/20\n",
      "\u001b[1m50/50\u001b[0m \u001b[32m━━━━━━━━━━━━━━━━━━━━\u001b[0m\u001b[37m\u001b[0m \u001b[1m1s\u001b[0m 12ms/step - accuracy: 0.9515 - loss: 0.1711 - val_accuracy: 0.9725 - val_loss: 0.1020 - learning_rate: 0.0010\n",
      "Epoch 15/20\n",
      "\u001b[1m50/50\u001b[0m \u001b[32m━━━━━━━━━━━━━━━━━━━━\u001b[0m\u001b[37m\u001b[0m \u001b[1m1s\u001b[0m 10ms/step - accuracy: 0.9402 - loss: 0.1896 - val_accuracy: 0.9725 - val_loss: 0.1007 - learning_rate: 0.0010\n",
      "Epoch 16/20\n",
      "\u001b[1m50/50\u001b[0m \u001b[32m━━━━━━━━━━━━━━━━━━━━\u001b[0m\u001b[37m\u001b[0m \u001b[1m1s\u001b[0m 10ms/step - accuracy: 0.9579 - loss: 0.1480 - val_accuracy: 0.9750 - val_loss: 0.0972 - learning_rate: 0.0010\n",
      "Epoch 17/20\n",
      "\u001b[1m50/50\u001b[0m \u001b[32m━━━━━━━━━━━━━━━━━━━━\u001b[0m\u001b[37m\u001b[0m \u001b[1m1s\u001b[0m 14ms/step - accuracy: 0.9671 - loss: 0.1261 - val_accuracy: 0.9750 - val_loss: 0.0839 - learning_rate: 0.0010\n",
      "Epoch 18/20\n",
      "\u001b[1m50/50\u001b[0m \u001b[32m━━━━━━━━━━━━━━━━━━━━\u001b[0m\u001b[37m\u001b[0m \u001b[1m1s\u001b[0m 10ms/step - accuracy: 0.9571 - loss: 0.1546 - val_accuracy: 0.9775 - val_loss: 0.0916 - learning_rate: 0.0010\n",
      "Epoch 19/20\n",
      "\u001b[1m50/50\u001b[0m \u001b[32m━━━━━━━━━━━━━━━━━━━━\u001b[0m\u001b[37m\u001b[0m \u001b[1m1s\u001b[0m 12ms/step - accuracy: 0.9692 - loss: 0.1177 - val_accuracy: 0.9725 - val_loss: 0.0896 - learning_rate: 0.0010\n",
      "Epoch 20/20\n",
      "\u001b[1m50/50\u001b[0m \u001b[32m━━━━━━━━━━━━━━━━━━━━\u001b[0m\u001b[37m\u001b[0m \u001b[1m1s\u001b[0m 11ms/step - accuracy: 0.9638 - loss: 0.1211 - val_accuracy: 0.9700 - val_loss: 0.0952 - learning_rate: 0.0010\n"
     ]
    }
   ],
   "source": [
    "# Create and train surrogate model\n",
    "print(\"Training surrogate model...\")\n",
    "surrogate_model = attack.create_surrogate_model()\n",
    "\n",
    "# Training callbacks\n",
    "callbacks = [\n",
    "    tf.keras.callbacks.EarlyStopping(\n",
    "        monitor='val_loss',\n",
    "        patience=3,\n",
    "        restore_best_weights=True\n",
    "    ),\n",
    "    tf.keras.callbacks.ReduceLROnPlateau(\n",
    "        monitor='val_loss',\n",
    "        factor=0.5,\n",
    "        patience=5\n",
    "    )\n",
    "]\n",
    "\n",
    "# Train model\n",
    "history = surrogate_model.fit(\n",
    "    x_train[:num_samples],\n",
    "    target_predictions,\n",
    "    batch_size=32,\n",
    "    epochs=20,\n",
    "    validation_split=0.2,\n",
    "    callbacks=callbacks,\n",
    "    verbose=1\n",
    ")"
   ]
  },
  {
   "cell_type": "code",
   "execution_count": 16,
   "id": "9604fb3a-1f5d-43fb-92d2-c4ed5bbf722e",
   "metadata": {},
   "outputs": [
    {
     "name": "stdout",
     "output_type": "stream",
     "text": [
      "Evaluating attack...\n",
      "Progress: 90/100 samples\n",
      "Collected 100 test predictions\n",
      "\n",
      "Attack Results:\n",
      "Accuracy: 0.9900\n",
      "Prediction Agreement: 0.9900\n",
      "Confidence Correlation: 0.2899\n",
      "\n",
      "Prediction Analysis:\n",
      "Target Model:\n",
      "- Unique predictions: [0 1 2 3 4 5 6 7 8 9]\n",
      "- Mean confidence: 0.9985\n",
      "\n",
      "Surrogate Model:\n",
      "- Unique predictions: [0 1 2 3 4 5 6 7 8 9]\n",
      "- Mean confidence: 0.9622\n"
     ]
    }
   ],
   "source": [
    "# Evaluate attack\n",
    "print(\"Evaluating attack...\")\n",
    "test_samples = 100\n",
    "test_target_preds = []\n",
    "\n",
    "# Simple progress tracking for evaluation\n",
    "for i in range(test_samples):\n",
    "    if i % 10 == 0:  # Update progress every 10 samples\n",
    "        print(f\"Progress: {i}/{test_samples} samples\", end='\\r')\n",
    "    \n",
    "    pred = attack.query_target_model(x_test[i])\n",
    "    if pred is not None:\n",
    "        test_target_preds.append(pred)\n",
    "\n",
    "test_target_preds = np.array(test_target_preds)\n",
    "print(f\"\\nCollected {len(test_target_preds)} test predictions\")\n",
    "\n",
    "# Get surrogate model predictions\n",
    "surrogate_preds = surrogate_model.predict(x_test[:test_samples], verbose=0)\n",
    "\n",
    "# Calculate results\n",
    "results = evaluate_stealing(\n",
    "    surrogate_preds,\n",
    "    test_target_preds,\n",
    "    y_test[:test_samples]\n",
    ")\n",
    "\n",
    "print(\"\\nAttack Results:\")\n",
    "print(f\"Accuracy: {results['accuracy']:.4f}\")\n",
    "print(f\"Prediction Agreement: {results['agreement']:.4f}\")\n",
    "print(f\"Confidence Correlation: {results['confidence_correlation']:.4f}\")\n",
    "\n",
    "# Additional analysis\n",
    "print(\"\\nPrediction Analysis:\")\n",
    "print(\"Target Model:\")\n",
    "print(f\"- Unique predictions: {np.unique(np.argmax(test_target_preds, axis=1))}\")\n",
    "print(f\"- Mean confidence: {np.mean(np.max(test_target_preds, axis=1)):.4f}\")\n",
    "print(\"\\nSurrogate Model:\")\n",
    "print(f\"- Unique predictions: {np.unique(np.argmax(surrogate_preds, axis=1))}\")\n",
    "print(f\"- Mean confidence: {np.mean(np.max(surrogate_preds, axis=1)):.4f}\")"
   ]
  },
  {
   "cell_type": "code",
   "execution_count": 17,
   "id": "2f4003f4-0f98-424d-8fd0-5b268f298413",
   "metadata": {},
   "outputs": [
    {
     "name": "stdout",
     "output_type": "stream",
     "text": [
      "Visualizing examples...\n"
     ]
    },
    {
     "data": {
      "image/png": "[encoded data removed]",
      "text/plain": [
       "<Figure size 1500x400 with 3 Axes>"
      ]
     },
     "metadata": {},
     "output_type": "display_data"
    },
    {
     "data": {
      "image/png": "[encoded data removed]",
      "text/plain": [
       "<Figure size 1500x400 with 3 Axes>"
      ]
     },
     "metadata": {},
     "output_type": "display_data"
    },
    {
     "name": "stderr",
     "output_type": "stream",
     "text": [
      "Exception ignored in: <function tqdm.__del__ at 0x710ad166d8a0>\n",
      "Traceback (most recent call last):\n",
      "  File \"/home/cybok/Desktop/cybok/cybokenv/lib/python3.12/site-packages/tqdm/std.py\", line 1148, in __del__\n",
      "    self.close()\n",
      "  File \"/home/cybok/Desktop/cybok/cybokenv/lib/python3.12/site-packages/tqdm/notebook.py\", line 279, in close\n",
      "    self.disp(bar_style='danger', check_delay=False)\n",
      "    ^^^^^^^^^\n",
      "AttributeError: 'tqdm_notebook' object has no attribute 'disp'\n"
     ]
    },
    {
     "data": {
      "image/png": "[encoded data removed]",
      "text/plain": [
       "<Figure size 1500x400 with 3 Axes>"
      ]
     },
     "metadata": {},
     "output_type": "display_data"
    },
    {
     "name": "stdout",
     "output_type": "stream",
     "text": [
      "\n",
      "Surrogate model saved as 'stolen_model.keras'\n"
     ]
    }
   ],
   "source": [
    "# Visualize examples\n",
    "print(\"Visualizing examples...\")\n",
    "for i in range(3):\n",
    "    plot_comparison(\n",
    "        x_test[i],\n",
    "        test_target_preds[i],\n",
    "        surrogate_preds[i],\n",
    "        y_test[i]\n",
    "    )\n",
    "\n",
    "# Save surrogate model\n",
    "surrogate_model.save('stolen_model.keras')\n",
    "print(\"\\nSurrogate model saved as 'stolen_model.keras'\")"
   ]
  },
  {
   "cell_type": "code",
   "execution_count": null,
   "id": "97442906-81fc-4efb-9173-047dc567c9d3",
   "metadata": {},
   "outputs": [],
   "source": []
  }
 ],
 "metadata": {
  "kernelspec": {
   "display_name": "Python 3 (ipykernel)",
   "language": "python",
   "name": "python3"
  },
  "language_info": {
   "codemirror_mode": {
    "name": "ipython",
    "version": 3
   },
   "file_extension": ".py",
   "mimetype": "text/x-python",
   "name": "python",
   "nbconvert_exporter": "python",
   "pygments_lexer": "ipython3",
   "version": "3.12.3"
  }
 },
 "nbformat": 4,
 "nbformat_minor": 5
}
